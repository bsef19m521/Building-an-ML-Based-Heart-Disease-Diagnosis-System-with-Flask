{
 "cells": [
  {
   "attachments": {},
   "cell_type": "markdown",
   "metadata": {},
   "source": [
    "## Life Cycle of Machine Learning Project\n"
   ]
  },
  {
   "attachments": {},
   "cell_type": "markdown",
   "metadata": {},
   "source": [
    "- Understanding of Problem\n",
    "- Data Collection\n",
    "- Data Checks/Data Understanding\n",
    "- EDA\n",
    "- Data Preprocessing\n",
    "- Model Training\n",
    "- Model Optimization/Hyper-paramter tuning\n",
    "- Choose Best Model\n",
    "- Deploy\n"
   ]
  },
  {
   "attachments": {},
   "cell_type": "markdown",
   "metadata": {},
   "source": [
    "## Problem Statement\n"
   ]
  },
  {
   "attachments": {},
   "cell_type": "markdown",
   "metadata": {},
   "source": [
    "#### Create a model to predict a heart disease of a patient.\n"
   ]
  },
  {
   "cell_type": "code",
   "execution_count": 9,
   "metadata": {},
   "outputs": [],
   "source": [
    "# Data Collection\n",
    "import pandas as pd\n",
    "import numpy as np\n",
    "import seaborn as sns\n",
    "import matplotlib.pyplot as plt\n",
    "import warnings\n",
    "warnings.filterwarnings(\"ignore\")\n"
   ]
  },
  {
   "cell_type": "code",
   "execution_count": 10,
   "metadata": {},
   "outputs": [],
   "source": [
    "# loading of data\n",
    "df = pd.read_csv(\"data/heart_disease.csv\")\n"
   ]
  },
  {
   "cell_type": "code",
   "execution_count": 11,
   "metadata": {},
   "outputs": [
    {
     "data": {
      "text/html": [
       "<div>\n",
       "<style scoped>\n",
       "    .dataframe tbody tr th:only-of-type {\n",
       "        vertical-align: middle;\n",
       "    }\n",
       "\n",
       "    .dataframe tbody tr th {\n",
       "        vertical-align: top;\n",
       "    }\n",
       "\n",
       "    .dataframe thead th {\n",
       "        text-align: right;\n",
       "    }\n",
       "</style>\n",
       "<table border=\"1\" class=\"dataframe\">\n",
       "  <thead>\n",
       "    <tr style=\"text-align: right;\">\n",
       "      <th></th>\n",
       "      <th>age</th>\n",
       "      <th>sex</th>\n",
       "      <th>cp</th>\n",
       "      <th>trestbps</th>\n",
       "      <th>chol</th>\n",
       "      <th>fbs</th>\n",
       "      <th>restecg</th>\n",
       "      <th>thalach</th>\n",
       "      <th>exang</th>\n",
       "      <th>oldpeak</th>\n",
       "      <th>slope</th>\n",
       "      <th>ca</th>\n",
       "      <th>thal</th>\n",
       "      <th>target</th>\n",
       "    </tr>\n",
       "  </thead>\n",
       "  <tbody>\n",
       "    <tr>\n",
       "      <th>0</th>\n",
       "      <td>52.0</td>\n",
       "      <td>Male</td>\n",
       "      <td>non-anginal pain</td>\n",
       "      <td>125</td>\n",
       "      <td>212</td>\n",
       "      <td>absence</td>\n",
       "      <td>abnormal</td>\n",
       "      <td>168.0</td>\n",
       "      <td>absence</td>\n",
       "      <td>1.0</td>\n",
       "      <td>downsloping</td>\n",
       "      <td>2 major vessels</td>\n",
       "      <td>reversable defect</td>\n",
       "      <td>no</td>\n",
       "    </tr>\n",
       "    <tr>\n",
       "      <th>1</th>\n",
       "      <td>53.0</td>\n",
       "      <td>Male</td>\n",
       "      <td>non-anginal pain</td>\n",
       "      <td>140</td>\n",
       "      <td>203</td>\n",
       "      <td>presence</td>\n",
       "      <td>normal</td>\n",
       "      <td>155.0</td>\n",
       "      <td>presence</td>\n",
       "      <td>3.1</td>\n",
       "      <td>upsloping</td>\n",
       "      <td>no major vessel</td>\n",
       "      <td>reversable defect</td>\n",
       "      <td>no</td>\n",
       "    </tr>\n",
       "    <tr>\n",
       "      <th>2</th>\n",
       "      <td>70.0</td>\n",
       "      <td>Male</td>\n",
       "      <td>non-anginal pain</td>\n",
       "      <td>145</td>\n",
       "      <td>174</td>\n",
       "      <td>absence</td>\n",
       "      <td>abnormal</td>\n",
       "      <td>125.0</td>\n",
       "      <td>presence</td>\n",
       "      <td>2.6</td>\n",
       "      <td>upsloping</td>\n",
       "      <td>no major vessel</td>\n",
       "      <td>reversable defect</td>\n",
       "      <td>no</td>\n",
       "    </tr>\n",
       "    <tr>\n",
       "      <th>3</th>\n",
       "      <td>61.0</td>\n",
       "      <td>Male</td>\n",
       "      <td>non-anginal pain</td>\n",
       "      <td>148</td>\n",
       "      <td>203</td>\n",
       "      <td>absence</td>\n",
       "      <td>abnormal</td>\n",
       "      <td>161.0</td>\n",
       "      <td>absence</td>\n",
       "      <td>0.0</td>\n",
       "      <td>downsloping</td>\n",
       "      <td>1 major vessel</td>\n",
       "      <td>reversable defect</td>\n",
       "      <td>no</td>\n",
       "    </tr>\n",
       "    <tr>\n",
       "      <th>4</th>\n",
       "      <td>62.0</td>\n",
       "      <td>Female</td>\n",
       "      <td>non-anginal pain</td>\n",
       "      <td>138</td>\n",
       "      <td>294</td>\n",
       "      <td>presence</td>\n",
       "      <td>abnormal</td>\n",
       "      <td>106.0</td>\n",
       "      <td>absence</td>\n",
       "      <td>1.9</td>\n",
       "      <td>flat</td>\n",
       "      <td>3 major vessels</td>\n",
       "      <td>fixed defect</td>\n",
       "      <td>no</td>\n",
       "    </tr>\n",
       "  </tbody>\n",
       "</table>\n",
       "</div>"
      ],
      "text/plain": [
       "    age     sex                cp  trestbps chol       fbs   restecg  thalach  \\\n",
       "0  52.0    Male  non-anginal pain       125  212   absence  abnormal    168.0   \n",
       "1  53.0    Male  non-anginal pain       140  203  presence    normal    155.0   \n",
       "2  70.0    Male  non-anginal pain       145  174   absence  abnormal    125.0   \n",
       "3  61.0    Male  non-anginal pain       148  203   absence  abnormal    161.0   \n",
       "4  62.0  Female  non-anginal pain       138  294  presence  abnormal    106.0   \n",
       "\n",
       "      exang  oldpeak        slope               ca               thal target  \n",
       "0   absence      1.0  downsloping  2 major vessels  reversable defect     no  \n",
       "1  presence      3.1    upsloping  no major vessel  reversable defect     no  \n",
       "2  presence      2.6    upsloping  no major vessel  reversable defect     no  \n",
       "3   absence      0.0  downsloping   1 major vessel  reversable defect     no  \n",
       "4   absence      1.9         flat  3 major vessels       fixed defect     no  "
      ]
     },
     "execution_count": 11,
     "metadata": {},
     "output_type": "execute_result"
    }
   ],
   "source": [
    "df.head()\n"
   ]
  },
  {
   "cell_type": "code",
   "execution_count": null,
   "metadata": {},
   "outputs": [],
   "source": []
  },
  {
   "cell_type": "code",
   "execution_count": null,
   "metadata": {},
   "outputs": [],
   "source": []
  },
  {
   "attachments": {},
   "cell_type": "markdown",
   "metadata": {},
   "source": [
    "#### Data Description:\n",
    "\n",
    "- age\n",
    "- sex\n",
    "- chest pain type (4 values)\n",
    "- resting blood pressure\n",
    "- serum cholestoral in mg/dl\n",
    "- fasting blood sugar > 120 mg/dl\n",
    "- resting electrocardiographic results (values 0,1,2)\n",
    "- maximum heart rate achieved\n",
    "- exercise induced angina\n",
    "- oldpeak = ST depression induced by exercise relative to rest\n",
    "- the slope of the peak exercise ST segment\n",
    "- number of major vessels (0-3) colored by flourosopy\n",
    "- thal: 0 = normal; 1 = fixed defect; 2 = reversable defect\n",
    "The names and social security numbers of the patients were recently removed from the database, replaced with dummy values.\n"
   ]
  },
  {
   "cell_type": "code",
   "execution_count": 12,
   "metadata": {},
   "outputs": [
    {
     "data": {
      "text/html": [
       "<div>\n",
       "<style scoped>\n",
       "    .dataframe tbody tr th:only-of-type {\n",
       "        vertical-align: middle;\n",
       "    }\n",
       "\n",
       "    .dataframe tbody tr th {\n",
       "        vertical-align: top;\n",
       "    }\n",
       "\n",
       "    .dataframe thead th {\n",
       "        text-align: right;\n",
       "    }\n",
       "</style>\n",
       "<table border=\"1\" class=\"dataframe\">\n",
       "  <thead>\n",
       "    <tr style=\"text-align: right;\">\n",
       "      <th></th>\n",
       "      <th>age</th>\n",
       "      <th>sex</th>\n",
       "      <th>cp</th>\n",
       "      <th>trestbps</th>\n",
       "      <th>chol</th>\n",
       "      <th>fbs</th>\n",
       "      <th>restecg</th>\n",
       "      <th>thalach</th>\n",
       "      <th>exang</th>\n",
       "      <th>oldpeak</th>\n",
       "      <th>slope</th>\n",
       "      <th>ca</th>\n",
       "      <th>thal</th>\n",
       "      <th>target</th>\n",
       "    </tr>\n",
       "  </thead>\n",
       "  <tbody>\n",
       "    <tr>\n",
       "      <th>0</th>\n",
       "      <td>52.0</td>\n",
       "      <td>Male</td>\n",
       "      <td>non-anginal pain</td>\n",
       "      <td>125</td>\n",
       "      <td>212</td>\n",
       "      <td>absence</td>\n",
       "      <td>abnormal</td>\n",
       "      <td>168.0</td>\n",
       "      <td>absence</td>\n",
       "      <td>1.0</td>\n",
       "      <td>downsloping</td>\n",
       "      <td>2 major vessels</td>\n",
       "      <td>reversable defect</td>\n",
       "      <td>no</td>\n",
       "    </tr>\n",
       "    <tr>\n",
       "      <th>1</th>\n",
       "      <td>53.0</td>\n",
       "      <td>Male</td>\n",
       "      <td>non-anginal pain</td>\n",
       "      <td>140</td>\n",
       "      <td>203</td>\n",
       "      <td>presence</td>\n",
       "      <td>normal</td>\n",
       "      <td>155.0</td>\n",
       "      <td>presence</td>\n",
       "      <td>3.1</td>\n",
       "      <td>upsloping</td>\n",
       "      <td>no major vessel</td>\n",
       "      <td>reversable defect</td>\n",
       "      <td>no</td>\n",
       "    </tr>\n",
       "    <tr>\n",
       "      <th>2</th>\n",
       "      <td>70.0</td>\n",
       "      <td>Male</td>\n",
       "      <td>non-anginal pain</td>\n",
       "      <td>145</td>\n",
       "      <td>174</td>\n",
       "      <td>absence</td>\n",
       "      <td>abnormal</td>\n",
       "      <td>125.0</td>\n",
       "      <td>presence</td>\n",
       "      <td>2.6</td>\n",
       "      <td>upsloping</td>\n",
       "      <td>no major vessel</td>\n",
       "      <td>reversable defect</td>\n",
       "      <td>no</td>\n",
       "    </tr>\n",
       "    <tr>\n",
       "      <th>3</th>\n",
       "      <td>61.0</td>\n",
       "      <td>Male</td>\n",
       "      <td>non-anginal pain</td>\n",
       "      <td>148</td>\n",
       "      <td>203</td>\n",
       "      <td>absence</td>\n",
       "      <td>abnormal</td>\n",
       "      <td>161.0</td>\n",
       "      <td>absence</td>\n",
       "      <td>0.0</td>\n",
       "      <td>downsloping</td>\n",
       "      <td>1 major vessel</td>\n",
       "      <td>reversable defect</td>\n",
       "      <td>no</td>\n",
       "    </tr>\n",
       "    <tr>\n",
       "      <th>4</th>\n",
       "      <td>62.0</td>\n",
       "      <td>Female</td>\n",
       "      <td>non-anginal pain</td>\n",
       "      <td>138</td>\n",
       "      <td>294</td>\n",
       "      <td>presence</td>\n",
       "      <td>abnormal</td>\n",
       "      <td>106.0</td>\n",
       "      <td>absence</td>\n",
       "      <td>1.9</td>\n",
       "      <td>flat</td>\n",
       "      <td>3 major vessels</td>\n",
       "      <td>fixed defect</td>\n",
       "      <td>no</td>\n",
       "    </tr>\n",
       "  </tbody>\n",
       "</table>\n",
       "</div>"
      ],
      "text/plain": [
       "    age     sex                cp  trestbps chol       fbs   restecg  thalach  \\\n",
       "0  52.0    Male  non-anginal pain       125  212   absence  abnormal    168.0   \n",
       "1  53.0    Male  non-anginal pain       140  203  presence    normal    155.0   \n",
       "2  70.0    Male  non-anginal pain       145  174   absence  abnormal    125.0   \n",
       "3  61.0    Male  non-anginal pain       148  203   absence  abnormal    161.0   \n",
       "4  62.0  Female  non-anginal pain       138  294  presence  abnormal    106.0   \n",
       "\n",
       "      exang  oldpeak        slope               ca               thal target  \n",
       "0   absence      1.0  downsloping  2 major vessels  reversable defect     no  \n",
       "1  presence      3.1    upsloping  no major vessel  reversable defect     no  \n",
       "2  presence      2.6    upsloping  no major vessel  reversable defect     no  \n",
       "3   absence      0.0  downsloping   1 major vessel  reversable defect     no  \n",
       "4   absence      1.9         flat  3 major vessels       fixed defect     no  "
      ]
     },
     "execution_count": 12,
     "metadata": {},
     "output_type": "execute_result"
    }
   ],
   "source": [
    "df.head()"
   ]
  },
  {
   "cell_type": "code",
   "execution_count": 13,
   "metadata": {},
   "outputs": [
    {
     "data": {
      "text/plain": [
       "(1025, 14)"
      ]
     },
     "execution_count": 13,
     "metadata": {},
     "output_type": "execute_result"
    }
   ],
   "source": [
    "# rows and columns of data \n",
    "df.shape "
   ]
  },
  {
   "cell_type": "code",
   "execution_count": 14,
   "metadata": {},
   "outputs": [
    {
     "data": {
      "text/plain": [
       "age          2\n",
       "sex          3\n",
       "cp           1\n",
       "trestbps     0\n",
       "chol         2\n",
       "fbs          3\n",
       "restecg      2\n",
       "thalach      1\n",
       "exang        0\n",
       "oldpeak      1\n",
       "slope        0\n",
       "ca          18\n",
       "thal         9\n",
       "target       0\n",
       "dtype: int64"
      ]
     },
     "execution_count": 14,
     "metadata": {},
     "output_type": "execute_result"
    }
   ],
   "source": [
    "# check missing values in the data \n",
    "df.isna().sum()"
   ]
  },
  {
   "cell_type": "code",
   "execution_count": null,
   "metadata": {},
   "outputs": [],
   "source": []
  },
  {
   "cell_type": "code",
   "execution_count": 15,
   "metadata": {},
   "outputs": [
    {
     "name": "stdout",
     "output_type": "stream",
     "text": [
      "<class 'pandas.core.frame.DataFrame'>\n",
      "RangeIndex: 1025 entries, 0 to 1024\n",
      "Data columns (total 14 columns):\n",
      " #   Column    Non-Null Count  Dtype  \n",
      "---  ------    --------------  -----  \n",
      " 0   age       1023 non-null   float64\n",
      " 1   sex       1022 non-null   object \n",
      " 2   cp        1024 non-null   object \n",
      " 3   trestbps  1025 non-null   int64  \n",
      " 4   chol      1023 non-null   object \n",
      " 5   fbs       1022 non-null   object \n",
      " 6   restecg   1023 non-null   object \n",
      " 7   thalach   1024 non-null   float64\n",
      " 8   exang     1025 non-null   object \n",
      " 9   oldpeak   1024 non-null   float64\n",
      " 10  slope     1025 non-null   object \n",
      " 11  ca        1007 non-null   object \n",
      " 12  thal      1016 non-null   object \n",
      " 13  target    1025 non-null   object \n",
      "dtypes: float64(3), int64(1), object(10)\n",
      "memory usage: 112.2+ KB\n"
     ]
    }
   ],
   "source": [
    "# info of the data\n",
    "df.info()"
   ]
  },
  {
   "cell_type": "code",
   "execution_count": 16,
   "metadata": {},
   "outputs": [
    {
     "data": {
      "text/html": [
       "<div>\n",
       "<style scoped>\n",
       "    .dataframe tbody tr th:only-of-type {\n",
       "        vertical-align: middle;\n",
       "    }\n",
       "\n",
       "    .dataframe tbody tr th {\n",
       "        vertical-align: top;\n",
       "    }\n",
       "\n",
       "    .dataframe thead th {\n",
       "        text-align: right;\n",
       "    }\n",
       "</style>\n",
       "<table border=\"1\" class=\"dataframe\">\n",
       "  <thead>\n",
       "    <tr style=\"text-align: right;\">\n",
       "      <th></th>\n",
       "      <th>age</th>\n",
       "      <th>trestbps</th>\n",
       "      <th>thalach</th>\n",
       "      <th>oldpeak</th>\n",
       "    </tr>\n",
       "  </thead>\n",
       "  <tbody>\n",
       "    <tr>\n",
       "      <th>count</th>\n",
       "      <td>1023.000000</td>\n",
       "      <td>1025.000000</td>\n",
       "      <td>1024.000000</td>\n",
       "      <td>1024.000000</td>\n",
       "    </tr>\n",
       "    <tr>\n",
       "      <th>mean</th>\n",
       "      <td>54.521994</td>\n",
       "      <td>131.749268</td>\n",
       "      <td>149.404297</td>\n",
       "      <td>1.076367</td>\n",
       "    </tr>\n",
       "    <tr>\n",
       "      <th>std</th>\n",
       "      <td>9.738120</td>\n",
       "      <td>17.653472</td>\n",
       "      <td>23.878902</td>\n",
       "      <td>1.188141</td>\n",
       "    </tr>\n",
       "    <tr>\n",
       "      <th>min</th>\n",
       "      <td>-10.000000</td>\n",
       "      <td>94.000000</td>\n",
       "      <td>71.000000</td>\n",
       "      <td>0.000000</td>\n",
       "    </tr>\n",
       "    <tr>\n",
       "      <th>25%</th>\n",
       "      <td>48.000000</td>\n",
       "      <td>120.000000</td>\n",
       "      <td>132.000000</td>\n",
       "      <td>0.000000</td>\n",
       "    </tr>\n",
       "    <tr>\n",
       "      <th>50%</th>\n",
       "      <td>56.000000</td>\n",
       "      <td>130.000000</td>\n",
       "      <td>152.000000</td>\n",
       "      <td>0.800000</td>\n",
       "    </tr>\n",
       "    <tr>\n",
       "      <th>75%</th>\n",
       "      <td>61.000000</td>\n",
       "      <td>140.000000</td>\n",
       "      <td>166.000000</td>\n",
       "      <td>1.800000</td>\n",
       "    </tr>\n",
       "    <tr>\n",
       "      <th>max</th>\n",
       "      <td>120.000000</td>\n",
       "      <td>200.000000</td>\n",
       "      <td>300.000000</td>\n",
       "      <td>6.600000</td>\n",
       "    </tr>\n",
       "  </tbody>\n",
       "</table>\n",
       "</div>"
      ],
      "text/plain": [
       "               age     trestbps      thalach      oldpeak\n",
       "count  1023.000000  1025.000000  1024.000000  1024.000000\n",
       "mean     54.521994   131.749268   149.404297     1.076367\n",
       "std       9.738120    17.653472    23.878902     1.188141\n",
       "min     -10.000000    94.000000    71.000000     0.000000\n",
       "25%      48.000000   120.000000   132.000000     0.000000\n",
       "50%      56.000000   130.000000   152.000000     0.800000\n",
       "75%      61.000000   140.000000   166.000000     1.800000\n",
       "max     120.000000   200.000000   300.000000     6.600000"
      ]
     },
     "execution_count": 16,
     "metadata": {},
     "output_type": "execute_result"
    }
   ],
   "source": [
    "#descriptive view of the data \n",
    "df.describe()"
   ]
  },
  {
   "cell_type": "code",
   "execution_count": null,
   "metadata": {},
   "outputs": [],
   "source": []
  },
  {
   "attachments": {},
   "cell_type": "markdown",
   "metadata": {},
   "source": [
    "# EDA \n",
    "- **Univariate Analysis(Single Column)**\n",
    "    - Categorical Analysis(Object/string)\n",
    "    - Numerical Analysis(Integer/float)\n",
    "\n",
    "- **Bi-Variate Analysis(Two Columns)**\n",
    "    - Categorical-Categoical Analysis\n",
    "    - Categorical-Numerical Analysis\n",
    "    - Numerical-Numerical Analysis\n",
    "\n",
    "- **Multivariate Analysis(More Than two Columns)**\n",
    "\n"
   ]
  },
  {
   "cell_type": "code",
   "execution_count": 18,
   "metadata": {},
   "outputs": [
    {
     "data": {
      "text/plain": [
       "target\n",
       "yes    526\n",
       "no     499\n",
       "Name: count, dtype: int64"
      ]
     },
     "execution_count": 18,
     "metadata": {},
     "output_type": "execute_result"
    }
   ],
   "source": [
    "# target column \n",
    "df.target.value_counts()"
   ]
  },
  {
   "cell_type": "code",
   "execution_count": 19,
   "metadata": {},
   "outputs": [
    {
     "data": {
      "image/png": "[encoded data removed]",
      "text/plain": [
       "<Figure size 640x480 with 1 Axes>"
      ]
     },
     "metadata": {},
     "output_type": "display_data"
    }
   ],
   "source": [
    "sns.countplot(x='target', data=df, palette='bwr')\n",
    "plt.show()"
   ]
  },
  {
   "cell_type": "code",
   "execution_count": null,
   "metadata": {},
   "outputs": [],
   "source": [
    "# Percentage Values of Patients suffering from heart disease or no disease\n",
    "\n",
    "countNoDisease = "
   ]
  },
  {
   "cell_type": "code",
   "execution_count": 27,
   "metadata": {},
   "outputs": [
    {
     "name": "stdout",
     "output_type": "stream",
     "text": [
      "Percentage of Patients haven't Heart Disease: 48.68%\n",
      "Percentage of Patients have Heart Disease: 51.32%\n"
     ]
    }
   ],
   "source": [
    "countNoDisease = len(df[df.target =='no'])\n",
    "countYesDisease = len(df[df.target =='yes'])\n",
    "\n",
    "print(\"Percentage of Patients haven't Heart Disease: {:.2f}%\".format((countNoDisease/len(df.target)*100)))\n",
    "print(\"Percentage of Patients have Heart Disease: {:.2f}%\".format((countYesDisease/len(df.target)*100)))\n"
   ]
  },
  {
   "cell_type": "code",
   "execution_count": 28,
   "metadata": {},
   "outputs": [
    {
     "data": {
      "image/png": "[encoded data removed]",
      "text/plain": [
       "<Figure size 640x480 with 1 Axes>"
      ]
     },
     "metadata": {},
     "output_type": "display_data"
    }
   ],
   "source": [
    "#analysis of sex\n",
    "sns.countplot(x='sex', data=df, palette=\"mako_r\")\n",
    "plt.show()"
   ]
  },
  {
   "attachments": {},
   "cell_type": "markdown",
   "metadata": {},
   "source": [
    "**Observation:**     \n",
    "    - Which Gender has more impact on target column?     \n",
    "    - Percentage distribution of male and female? "
   ]
  },
  {
   "attachments": {},
   "cell_type": "markdown",
   "metadata": {},
   "source": [
    "### Bi-Variate Analysis"
   ]
  },
  {
   "cell_type": "code",
   "execution_count": 31,
   "metadata": {},
   "outputs": [
    {
     "data": {
      "image/png": "[encoded data removed]",
      "text/plain": [
       "<Figure size 800x800 with 1 Axes>"
      ]
     },
     "metadata": {},
     "output_type": "display_data"
    }
   ],
   "source": [
    "pd.crosstab(df.age, df.target).plot(kind='bar', figsize=(8,8));"
   ]
  },
  {
   "cell_type": "code",
   "execution_count": 32,
   "metadata": {},
   "outputs": [
    {
     "data": {
      "image/png": "[encoded data removed]",
      "text/plain": [
       "<Figure size 800x800 with 1 Axes>"
      ]
     },
     "metadata": {},
     "output_type": "display_data"
    }
   ],
   "source": [
    "pd.crosstab(df.sex, df.target).plot(kind='bar', figsize=(8,8));"
   ]
  },
  {
   "cell_type": "code",
   "execution_count": 33,
   "metadata": {},
   "outputs": [
    {
     "data": {
      "text/html": [
       "<div>\n",
       "<style scoped>\n",
       "    .dataframe tbody tr th:only-of-type {\n",
       "        vertical-align: middle;\n",
       "    }\n",
       "\n",
       "    .dataframe tbody tr th {\n",
       "        vertical-align: top;\n",
       "    }\n",
       "\n",
       "    .dataframe thead th {\n",
       "        text-align: right;\n",
       "    }\n",
       "</style>\n",
       "<table border=\"1\" class=\"dataframe\">\n",
       "  <thead>\n",
       "    <tr style=\"text-align: right;\">\n",
       "      <th></th>\n",
       "      <th>age</th>\n",
       "      <th>sex</th>\n",
       "      <th>cp</th>\n",
       "      <th>trestbps</th>\n",
       "      <th>chol</th>\n",
       "      <th>fbs</th>\n",
       "      <th>restecg</th>\n",
       "      <th>thalach</th>\n",
       "      <th>exang</th>\n",
       "      <th>oldpeak</th>\n",
       "      <th>slope</th>\n",
       "      <th>ca</th>\n",
       "      <th>thal</th>\n",
       "      <th>target</th>\n",
       "    </tr>\n",
       "  </thead>\n",
       "  <tbody>\n",
       "    <tr>\n",
       "      <th>0</th>\n",
       "      <td>52.0</td>\n",
       "      <td>Male</td>\n",
       "      <td>non-anginal pain</td>\n",
       "      <td>125</td>\n",
       "      <td>212</td>\n",
       "      <td>absence</td>\n",
       "      <td>abnormal</td>\n",
       "      <td>168.0</td>\n",
       "      <td>absence</td>\n",
       "      <td>1.0</td>\n",
       "      <td>downsloping</td>\n",
       "      <td>2 major vessels</td>\n",
       "      <td>reversable defect</td>\n",
       "      <td>no</td>\n",
       "    </tr>\n",
       "    <tr>\n",
       "      <th>1</th>\n",
       "      <td>53.0</td>\n",
       "      <td>Male</td>\n",
       "      <td>non-anginal pain</td>\n",
       "      <td>140</td>\n",
       "      <td>203</td>\n",
       "      <td>presence</td>\n",
       "      <td>normal</td>\n",
       "      <td>155.0</td>\n",
       "      <td>presence</td>\n",
       "      <td>3.1</td>\n",
       "      <td>upsloping</td>\n",
       "      <td>no major vessel</td>\n",
       "      <td>reversable defect</td>\n",
       "      <td>no</td>\n",
       "    </tr>\n",
       "    <tr>\n",
       "      <th>2</th>\n",
       "      <td>70.0</td>\n",
       "      <td>Male</td>\n",
       "      <td>non-anginal pain</td>\n",
       "      <td>145</td>\n",
       "      <td>174</td>\n",
       "      <td>absence</td>\n",
       "      <td>abnormal</td>\n",
       "      <td>125.0</td>\n",
       "      <td>presence</td>\n",
       "      <td>2.6</td>\n",
       "      <td>upsloping</td>\n",
       "      <td>no major vessel</td>\n",
       "      <td>reversable defect</td>\n",
       "      <td>no</td>\n",
       "    </tr>\n",
       "    <tr>\n",
       "      <th>3</th>\n",
       "      <td>61.0</td>\n",
       "      <td>Male</td>\n",
       "      <td>non-anginal pain</td>\n",
       "      <td>148</td>\n",
       "      <td>203</td>\n",
       "      <td>absence</td>\n",
       "      <td>abnormal</td>\n",
       "      <td>161.0</td>\n",
       "      <td>absence</td>\n",
       "      <td>0.0</td>\n",
       "      <td>downsloping</td>\n",
       "      <td>1 major vessel</td>\n",
       "      <td>reversable defect</td>\n",
       "      <td>no</td>\n",
       "    </tr>\n",
       "    <tr>\n",
       "      <th>4</th>\n",
       "      <td>62.0</td>\n",
       "      <td>Female</td>\n",
       "      <td>non-anginal pain</td>\n",
       "      <td>138</td>\n",
       "      <td>294</td>\n",
       "      <td>presence</td>\n",
       "      <td>abnormal</td>\n",
       "      <td>106.0</td>\n",
       "      <td>absence</td>\n",
       "      <td>1.9</td>\n",
       "      <td>flat</td>\n",
       "      <td>3 major vessels</td>\n",
       "      <td>fixed defect</td>\n",
       "      <td>no</td>\n",
       "    </tr>\n",
       "  </tbody>\n",
       "</table>\n",
       "</div>"
      ],
      "text/plain": [
       "    age     sex                cp  trestbps chol       fbs   restecg  thalach  \\\n",
       "0  52.0    Male  non-anginal pain       125  212   absence  abnormal    168.0   \n",
       "1  53.0    Male  non-anginal pain       140  203  presence    normal    155.0   \n",
       "2  70.0    Male  non-anginal pain       145  174   absence  abnormal    125.0   \n",
       "3  61.0    Male  non-anginal pain       148  203   absence  abnormal    161.0   \n",
       "4  62.0  Female  non-anginal pain       138  294  presence  abnormal    106.0   \n",
       "\n",
       "      exang  oldpeak        slope               ca               thal target  \n",
       "0   absence      1.0  downsloping  2 major vessels  reversable defect     no  \n",
       "1  presence      3.1    upsloping  no major vessel  reversable defect     no  \n",
       "2  presence      2.6    upsloping  no major vessel  reversable defect     no  \n",
       "3   absence      0.0  downsloping   1 major vessel  reversable defect     no  \n",
       "4   absence      1.9         flat  3 major vessels       fixed defect     no  "
      ]
     },
     "execution_count": 33,
     "metadata": {},
     "output_type": "execute_result"
    }
   ],
   "source": [
    "df.head()"
   ]
  },
  {
   "cell_type": "code",
   "execution_count": 35,
   "metadata": {},
   "outputs": [
    {
     "data": {
      "image/png": "[encoded data removed]",
      "text/plain": [
       "<Figure size 640x480 with 1 Axes>"
      ]
     },
     "metadata": {},
     "output_type": "display_data"
    }
   ],
   "source": [
    "\n",
    "sns.scatterplot(x='age',y='thalach', hue='target', data=df);"
   ]
  },
  {
   "cell_type": "code",
   "execution_count": 36,
   "metadata": {},
   "outputs": [
    {
     "data": {
      "image/png": "[encoded data removed]",
      "text/plain": [
       "<Figure size 800x800 with 1 Axes>"
      ]
     },
     "metadata": {},
     "output_type": "display_data"
    }
   ],
   "source": [
    "pd.crosstab(df.thalach, df.target).plot(kind='bar', figsize=(8,8));"
   ]
  },
  {
   "cell_type": "code",
   "execution_count": null,
   "metadata": {},
   "outputs": [],
   "source": []
  }
 ],
 "metadata": {
  "kernelspec": {
   "display_name": "myenv",
   "language": "python",
   "name": "python3"
  },
  "language_info": {
   "codemirror_mode": {
    "name": "ipython",
    "version": 3
   },
   "file_extension": ".py",
   "mimetype": "text/x-python",
   "name": "python",
   "nbconvert_exporter": "python",
   "pygments_lexer": "ipython3",
   "version": "3.8.10"
  },
  "orig_nbformat": 4
 },
 "nbformat": 4,
 "nbformat_minor": 2
}
