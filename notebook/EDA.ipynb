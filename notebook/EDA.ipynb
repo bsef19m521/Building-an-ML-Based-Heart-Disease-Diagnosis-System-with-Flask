{
 "cells": [
  {
   "cell_type": "markdown",
   "metadata": {},
   "source": [
    "## Life Cycle of Machine Learning Project\n"
   ]
  },
  {
   "cell_type": "markdown",
   "metadata": {},
   "source": [
    "- Understanding of Problem\n",
    "- Data Collection\n",
    "- Data Checking/Data Understanding\n",
    "- EDA\n",
    "- Data Preprocessing\n",
    "- Model Training\n",
    "- Choose Best Model\n",
    "- Model Development\n"
   ]
  },
  {
   "cell_type": "code",
   "execution_count": null,
   "metadata": {},
   "outputs": [],
   "source": []
  },
  {
   "cell_type": "code",
   "execution_count": null,
   "metadata": {},
   "outputs": [],
   "source": []
  },
  {
   "cell_type": "code",
   "execution_count": null,
   "metadata": {},
   "outputs": [],
   "source": []
  },
  {
   "cell_type": "code",
   "execution_count": null,
   "metadata": {},
   "outputs": [],
   "source": []
  },
  {
   "cell_type": "code",
   "execution_count": null,
   "metadata": {},
   "outputs": [],
   "source": []
  },
  {
   "cell_type": "markdown",
   "metadata": {},
   "source": [
    "## Problem Statement\n"
   ]
  },
  {
   "cell_type": "markdown",
   "metadata": {},
   "source": [
    "#### Create a model to predict a heart disease of a patient.\n"
   ]
  },
  {
   "cell_type": "code",
   "execution_count": null,
   "metadata": {},
   "outputs": [],
   "source": []
  },
  {
   "cell_type": "code",
   "execution_count": null,
   "metadata": {},
   "outputs": [],
   "source": []
  },
  {
   "cell_type": "code",
   "execution_count": null,
   "metadata": {},
   "outputs": [],
   "source": []
  },
  {
   "cell_type": "code",
   "execution_count": null,
   "metadata": {},
   "outputs": [],
   "source": []
  },
  {
   "cell_type": "code",
   "execution_count": null,
   "metadata": {},
   "outputs": [],
   "source": []
  },
  {
   "cell_type": "code",
   "execution_count": 1,
   "metadata": {},
   "outputs": [],
   "source": [
    "# Data Collection\n",
    "\n",
    "import pandas as pd # for Data Manipulation\n",
    "import numpy as np # for numerical computing\n",
    "import seaborn as sns  # for data visualization\n",
    "import matplotlib.pyplot as plt\n",
    "import warnings\n",
    "warnings.filterwarnings(\"ignore\")\n"
   ]
  },
  {
   "cell_type": "code",
   "execution_count": null,
   "metadata": {},
   "outputs": [],
   "source": []
  },
  {
   "cell_type": "code",
   "execution_count": 2,
   "metadata": {},
   "outputs": [],
   "source": [
    "# loading of data, downloaded from kaggle \n",
    "df = pd.read_csv(\"data/heart_disease.csv\")\n"
   ]
  },
  {
   "cell_type": "code",
   "execution_count": null,
   "metadata": {},
   "outputs": [],
   "source": []
  },
  {
   "cell_type": "code",
   "execution_count": 103,
   "metadata": {},
   "outputs": [
    {
     "data": {
      "text/html": [
       "<div>\n",
       "<style scoped>\n",
       "    .dataframe tbody tr th:only-of-type {\n",
       "        vertical-align: middle;\n",
       "    }\n",
       "\n",
       "    .dataframe tbody tr th {\n",
       "        vertical-align: top;\n",
       "    }\n",
       "\n",
       "    .dataframe thead th {\n",
       "        text-align: right;\n",
       "    }\n",
       "</style>\n",
       "<table border=\"1\" class=\"dataframe\">\n",
       "  <thead>\n",
       "    <tr style=\"text-align: right;\">\n",
       "      <th></th>\n",
       "      <th>age</th>\n",
       "      <th>sex</th>\n",
       "      <th>cp</th>\n",
       "      <th>trestbps</th>\n",
       "      <th>chol</th>\n",
       "      <th>fbs</th>\n",
       "      <th>restecg</th>\n",
       "      <th>thalach</th>\n",
       "      <th>exang</th>\n",
       "      <th>oldpeak</th>\n",
       "      <th>slope</th>\n",
       "      <th>ca</th>\n",
       "      <th>thal</th>\n",
       "      <th>target</th>\n",
       "    </tr>\n",
       "  </thead>\n",
       "  <tbody>\n",
       "    <tr>\n",
       "      <th>0</th>\n",
       "      <td>52.0</td>\n",
       "      <td>Male</td>\n",
       "      <td>non-anginal pain</td>\n",
       "      <td>125</td>\n",
       "      <td>212</td>\n",
       "      <td>absence</td>\n",
       "      <td>abnormal</td>\n",
       "      <td>168.0</td>\n",
       "      <td>absence</td>\n",
       "      <td>1.0</td>\n",
       "      <td>downsloping</td>\n",
       "      <td>2 major vessels</td>\n",
       "      <td>reversable defect</td>\n",
       "      <td>no</td>\n",
       "    </tr>\n",
       "    <tr>\n",
       "      <th>1</th>\n",
       "      <td>53.0</td>\n",
       "      <td>Male</td>\n",
       "      <td>non-anginal pain</td>\n",
       "      <td>140</td>\n",
       "      <td>203</td>\n",
       "      <td>presence</td>\n",
       "      <td>normal</td>\n",
       "      <td>155.0</td>\n",
       "      <td>presence</td>\n",
       "      <td>3.1</td>\n",
       "      <td>upsloping</td>\n",
       "      <td>no major vessel</td>\n",
       "      <td>reversable defect</td>\n",
       "      <td>no</td>\n",
       "    </tr>\n",
       "    <tr>\n",
       "      <th>2</th>\n",
       "      <td>70.0</td>\n",
       "      <td>Male</td>\n",
       "      <td>non-anginal pain</td>\n",
       "      <td>145</td>\n",
       "      <td>174</td>\n",
       "      <td>absence</td>\n",
       "      <td>abnormal</td>\n",
       "      <td>125.0</td>\n",
       "      <td>presence</td>\n",
       "      <td>2.6</td>\n",
       "      <td>upsloping</td>\n",
       "      <td>no major vessel</td>\n",
       "      <td>reversable defect</td>\n",
       "      <td>no</td>\n",
       "    </tr>\n",
       "    <tr>\n",
       "      <th>3</th>\n",
       "      <td>61.0</td>\n",
       "      <td>Male</td>\n",
       "      <td>non-anginal pain</td>\n",
       "      <td>148</td>\n",
       "      <td>203</td>\n",
       "      <td>absence</td>\n",
       "      <td>abnormal</td>\n",
       "      <td>161.0</td>\n",
       "      <td>absence</td>\n",
       "      <td>0.0</td>\n",
       "      <td>downsloping</td>\n",
       "      <td>1 major vessel</td>\n",
       "      <td>reversable defect</td>\n",
       "      <td>no</td>\n",
       "    </tr>\n",
       "    <tr>\n",
       "      <th>4</th>\n",
       "      <td>62.0</td>\n",
       "      <td>Female</td>\n",
       "      <td>non-anginal pain</td>\n",
       "      <td>138</td>\n",
       "      <td>294</td>\n",
       "      <td>presence</td>\n",
       "      <td>abnormal</td>\n",
       "      <td>106.0</td>\n",
       "      <td>absence</td>\n",
       "      <td>1.9</td>\n",
       "      <td>flat</td>\n",
       "      <td>3 major vessels</td>\n",
       "      <td>fixed defect</td>\n",
       "      <td>no</td>\n",
       "    </tr>\n",
       "  </tbody>\n",
       "</table>\n",
       "</div>"
      ],
      "text/plain": [
       "    age     sex                cp  trestbps chol       fbs   restecg  thalach  \\\n",
       "0  52.0    Male  non-anginal pain       125  212   absence  abnormal    168.0   \n",
       "1  53.0    Male  non-anginal pain       140  203  presence    normal    155.0   \n",
       "2  70.0    Male  non-anginal pain       145  174   absence  abnormal    125.0   \n",
       "3  61.0    Male  non-anginal pain       148  203   absence  abnormal    161.0   \n",
       "4  62.0  Female  non-anginal pain       138  294  presence  abnormal    106.0   \n",
       "\n",
       "      exang  oldpeak        slope               ca               thal target  \n",
       "0   absence      1.0  downsloping  2 major vessels  reversable defect     no  \n",
       "1  presence      3.1    upsloping  no major vessel  reversable defect     no  \n",
       "2  presence      2.6    upsloping  no major vessel  reversable defect     no  \n",
       "3   absence      0.0  downsloping   1 major vessel  reversable defect     no  \n",
       "4   absence      1.9         flat  3 major vessels       fixed defect     no  "
      ]
     },
     "execution_count": 103,
     "metadata": {},
     "output_type": "execute_result"
    }
   ],
   "source": [
    "#df.head() method is used to display first 5 rows\n",
    "df.head()\n"
   ]
  },
  {
   "cell_type": "code",
   "execution_count": null,
   "metadata": {},
   "outputs": [],
   "source": []
  },
  {
   "cell_type": "code",
   "execution_count": null,
   "metadata": {},
   "outputs": [],
   "source": []
  },
  {
   "cell_type": "markdown",
   "metadata": {},
   "source": [
    "#### Data Description:\n",
    "\n",
    "- age\n",
    "- sex\n",
    "- chest pain type (4 values)\n",
    "- resting blood pressure\n",
    "- serum cholestoral in mg/dl\n",
    "- fasting blood sugar > 120 mg/dl\n",
    "- resting electrocardiographic results (values 0,1,2)\n",
    "- maximum heart rate achieved\n",
    "- exercise induced angina\n",
    "- oldpeak = ST depression induced by exercise relative to rest\n",
    "- the slope of the peak exercise ST segment\n",
    "- number of major vessels (0-3) colored by flourosopy\n",
    "- thal: 0 = normal; 1 = fixed defect; 2 = reversable defect\n",
    "The names and social security numbers of the patients were recently removed from the database, replaced with dummy values.\n"
   ]
  },
  {
   "cell_type": "code",
   "execution_count": null,
   "metadata": {},
   "outputs": [],
   "source": []
  },
  {
   "cell_type": "code",
   "execution_count": 5,
   "metadata": {},
   "outputs": [
    {
     "data": {
      "text/plain": [
       "(1025, 14)"
      ]
     },
     "execution_count": 5,
     "metadata": {},
     "output_type": "execute_result"
    }
   ],
   "source": [
    "# rows and columns of data \n",
    "df.shape "
   ]
  },
  {
   "cell_type": "code",
   "execution_count": 6,
   "metadata": {},
   "outputs": [
    {
     "data": {
      "text/plain": [
       "age          2\n",
       "sex          3\n",
       "cp           1\n",
       "trestbps     0\n",
       "chol         2\n",
       "fbs          3\n",
       "restecg      2\n",
       "thalach      1\n",
       "exang        0\n",
       "oldpeak      1\n",
       "slope        0\n",
       "ca          18\n",
       "thal         9\n",
       "target       0\n",
       "dtype: int64"
      ]
     },
     "execution_count": 6,
     "metadata": {},
     "output_type": "execute_result"
    }
   ],
   "source": [
    "# check missing values in the data \n",
    "df.isna().sum()"
   ]
  },
  {
   "cell_type": "code",
   "execution_count": null,
   "metadata": {},
   "outputs": [],
   "source": []
  },
  {
   "cell_type": "code",
   "execution_count": 7,
   "metadata": {},
   "outputs": [
    {
     "name": "stdout",
     "output_type": "stream",
     "text": [
      "<class 'pandas.core.frame.DataFrame'>\n",
      "RangeIndex: 1025 entries, 0 to 1024\n",
      "Data columns (total 14 columns):\n",
      " #   Column    Non-Null Count  Dtype  \n",
      "---  ------    --------------  -----  \n",
      " 0   age       1023 non-null   float64\n",
      " 1   sex       1022 non-null   object \n",
      " 2   cp        1024 non-null   object \n",
      " 3   trestbps  1025 non-null   int64  \n",
      " 4   chol      1023 non-null   object \n",
      " 5   fbs       1022 non-null   object \n",
      " 6   restecg   1023 non-null   object \n",
      " 7   thalach   1024 non-null   float64\n",
      " 8   exang     1025 non-null   object \n",
      " 9   oldpeak   1024 non-null   float64\n",
      " 10  slope     1025 non-null   object \n",
      " 11  ca        1007 non-null   object \n",
      " 12  thal      1016 non-null   object \n",
      " 13  target    1025 non-null   object \n",
      "dtypes: float64(3), int64(1), object(10)\n",
      "memory usage: 112.2+ KB\n"
     ]
    }
   ],
   "source": [
    "# info of the data\n",
    "df.info()"
   ]
  },
  {
   "cell_type": "code",
   "execution_count": 8,
   "metadata": {},
   "outputs": [
    {
     "data": {
      "text/html": [
       "<div>\n",
       "<style scoped>\n",
       "    .dataframe tbody tr th:only-of-type {\n",
       "        vertical-align: middle;\n",
       "    }\n",
       "\n",
       "    .dataframe tbody tr th {\n",
       "        vertical-align: top;\n",
       "    }\n",
       "\n",
       "    .dataframe thead th {\n",
       "        text-align: right;\n",
       "    }\n",
       "</style>\n",
       "<table border=\"1\" class=\"dataframe\">\n",
       "  <thead>\n",
       "    <tr style=\"text-align: right;\">\n",
       "      <th></th>\n",
       "      <th>age</th>\n",
       "      <th>trestbps</th>\n",
       "      <th>thalach</th>\n",
       "      <th>oldpeak</th>\n",
       "    </tr>\n",
       "  </thead>\n",
       "  <tbody>\n",
       "    <tr>\n",
       "      <th>count</th>\n",
       "      <td>1023.000000</td>\n",
       "      <td>1025.000000</td>\n",
       "      <td>1024.000000</td>\n",
       "      <td>1024.000000</td>\n",
       "    </tr>\n",
       "    <tr>\n",
       "      <th>mean</th>\n",
       "      <td>54.521994</td>\n",
       "      <td>131.749268</td>\n",
       "      <td>149.404297</td>\n",
       "      <td>1.076367</td>\n",
       "    </tr>\n",
       "    <tr>\n",
       "      <th>std</th>\n",
       "      <td>9.738120</td>\n",
       "      <td>17.653472</td>\n",
       "      <td>23.878902</td>\n",
       "      <td>1.188141</td>\n",
       "    </tr>\n",
       "    <tr>\n",
       "      <th>min</th>\n",
       "      <td>-10.000000</td>\n",
       "      <td>94.000000</td>\n",
       "      <td>71.000000</td>\n",
       "      <td>0.000000</td>\n",
       "    </tr>\n",
       "    <tr>\n",
       "      <th>25%</th>\n",
       "      <td>48.000000</td>\n",
       "      <td>120.000000</td>\n",
       "      <td>132.000000</td>\n",
       "      <td>0.000000</td>\n",
       "    </tr>\n",
       "    <tr>\n",
       "      <th>50%</th>\n",
       "      <td>56.000000</td>\n",
       "      <td>130.000000</td>\n",
       "      <td>152.000000</td>\n",
       "      <td>0.800000</td>\n",
       "    </tr>\n",
       "    <tr>\n",
       "      <th>75%</th>\n",
       "      <td>61.000000</td>\n",
       "      <td>140.000000</td>\n",
       "      <td>166.000000</td>\n",
       "      <td>1.800000</td>\n",
       "    </tr>\n",
       "    <tr>\n",
       "      <th>max</th>\n",
       "      <td>120.000000</td>\n",
       "      <td>200.000000</td>\n",
       "      <td>300.000000</td>\n",
       "      <td>6.600000</td>\n",
       "    </tr>\n",
       "  </tbody>\n",
       "</table>\n",
       "</div>"
      ],
      "text/plain": [
       "               age     trestbps      thalach      oldpeak\n",
       "count  1023.000000  1025.000000  1024.000000  1024.000000\n",
       "mean     54.521994   131.749268   149.404297     1.076367\n",
       "std       9.738120    17.653472    23.878902     1.188141\n",
       "min     -10.000000    94.000000    71.000000     0.000000\n",
       "25%      48.000000   120.000000   132.000000     0.000000\n",
       "50%      56.000000   130.000000   152.000000     0.800000\n",
       "75%      61.000000   140.000000   166.000000     1.800000\n",
       "max     120.000000   200.000000   300.000000     6.600000"
      ]
     },
     "execution_count": 8,
     "metadata": {},
     "output_type": "execute_result"
    }
   ],
   "source": [
    "#descriptive view of the data \n",
    "df.describe()"
   ]
  },
  {
   "cell_type": "code",
   "execution_count": null,
   "metadata": {},
   "outputs": [],
   "source": []
  },
  {
   "cell_type": "code",
   "execution_count": null,
   "metadata": {},
   "outputs": [],
   "source": []
  },
  {
   "cell_type": "code",
   "execution_count": null,
   "metadata": {},
   "outputs": [],
   "source": []
  },
  {
   "cell_type": "code",
   "execution_count": null,
   "metadata": {},
   "outputs": [],
   "source": []
  },
  {
   "cell_type": "markdown",
   "metadata": {},
   "source": [
    "# EDA \n",
    "- **Univariate Analysis(Single Column)**\n",
    "    - Categorical Analysis(Object/string)\n",
    "    - Numerical Analysis(Integer/float)\n",
    "\n",
    "- **Bi-Variate Analysis(Two Columns)**\n",
    "    - Categorical-Categoical Analysis\n",
    "    - Categorical-Numerical Analysis\n",
    "    - Numerical-Numerical Analysis\n",
    "\n",
    "- **Multivariate Analysis(More Than two Columns)**\n",
    "\n"
   ]
  },
  {
   "cell_type": "code",
   "execution_count": 9,
   "metadata": {},
   "outputs": [
    {
     "data": {
      "text/plain": [
       "yes    526\n",
       "no     499\n",
       "Name: target, dtype: int64"
      ]
     },
     "execution_count": 9,
     "metadata": {},
     "output_type": "execute_result"
    }
   ],
   "source": [
    "# target column \n",
    "df.target.value_counts()"
   ]
  },
  {
   "cell_type": "code",
   "execution_count": 12,
   "metadata": {},
   "outputs": [
    {
     "data": {
      "image/png": "[encoded data removed]",
      "text/plain": [
       "<Figure size 640x480 with 1 Axes>"
      ]
     },
     "metadata": {},
     "output_type": "display_data"
    }
   ],
   "source": [
    "sns.countplot(x='target', data=df)\n",
    "plt.show()"
   ]
  },
  {
   "cell_type": "code",
   "execution_count": null,
   "metadata": {},
   "outputs": [],
   "source": [
    "# Percentage Values of Patients suffering from heart disease or no disease\n",
    "\n",
    "#countNoDisease = "
   ]
  },
  {
   "cell_type": "code",
   "execution_count": 13,
   "metadata": {},
   "outputs": [
    {
     "name": "stdout",
     "output_type": "stream",
     "text": [
      "Percentage of Patients haven't Heart Disease: 48.68%\n",
      "Percentage of Patients have Heart Disease: 51.32%\n"
     ]
    }
   ],
   "source": [
    "countNoDisease = len(df[df.target =='no'])\n",
    "countYesDisease = len(df[df.target =='yes'])\n",
    "\n",
    "print(\"Percentage of Patients haven't Heart Disease: {:.2f}%\".format((countNoDisease/len(df.target)*100)))\n",
    "print(\"Percentage of Patients have Heart Disease: {:.2f}%\".format((countYesDisease/len(df.target)*100)))\n"
   ]
  },
  {
   "cell_type": "code",
   "execution_count": 14,
   "metadata": {},
   "outputs": [
    {
     "data": {
      "image/png": "[encoded data removed]",
      "text/plain": [
       "<Figure size 640x480 with 1 Axes>"
      ]
     },
     "metadata": {},
     "output_type": "display_data"
    }
   ],
   "source": [
    "#analysis of sex\n",
    "sns.countplot(x='sex', data=df, palette=\"mako_r\")\n",
    "plt.show()"
   ]
  },
  {
   "cell_type": "markdown",
   "metadata": {},
   "source": [
    "**Observation:**     \n",
    "    - Which Gender has more impact on target column?     \n",
    "    - Percentage distribution of male and female? "
   ]
  },
  {
   "cell_type": "code",
   "execution_count": null,
   "metadata": {},
   "outputs": [],
   "source": []
  },
  {
   "cell_type": "code",
   "execution_count": null,
   "metadata": {},
   "outputs": [],
   "source": []
  },
  {
   "cell_type": "code",
   "execution_count": null,
   "metadata": {},
   "outputs": [],
   "source": []
  },
  {
   "cell_type": "code",
   "execution_count": null,
   "metadata": {},
   "outputs": [],
   "source": []
  },
  {
   "cell_type": "markdown",
   "metadata": {},
   "source": [
    "### Bi-Variate Analysis"
   ]
  },
  {
   "cell_type": "code",
   "execution_count": 15,
   "metadata": {},
   "outputs": [
    {
     "data": {
      "image/png": "[encoded data removed]",
      "text/plain": [
       "<Figure size 800x800 with 1 Axes>"
      ]
     },
     "metadata": {},
     "output_type": "display_data"
    }
   ],
   "source": [
    "pd.crosstab(df.age, df.target).plot(kind='bar', figsize=(8,8));"
   ]
  },
  {
   "cell_type": "code",
   "execution_count": 16,
   "metadata": {},
   "outputs": [
    {
     "data": {
      "image/png": "[encoded data removed]",
      "text/plain": [
       "<Figure size 800x800 with 1 Axes>"
      ]
     },
     "metadata": {},
     "output_type": "display_data"
    }
   ],
   "source": [
    "pd.crosstab(df.sex, df.target).plot(kind='bar', figsize=(8,8));"
   ]
  },
  {
   "cell_type": "code",
   "execution_count": null,
   "metadata": {},
   "outputs": [],
   "source": []
  },
  {
   "cell_type": "code",
   "execution_count": 18,
   "metadata": {},
   "outputs": [
    {
     "data": {
      "image/png": "[encoded data removed]",
      "text/plain": [
       "<Figure size 640x480 with 1 Axes>"
      ]
     },
     "metadata": {},
     "output_type": "display_data"
    }
   ],
   "source": [
    "\n",
    "sns.scatterplot(x='age',y='thalach', hue='target', data=df);"
   ]
  },
  {
   "cell_type": "code",
   "execution_count": 19,
   "metadata": {},
   "outputs": [
    {
     "data": {
      "image/png": "[encoded data removed]",
      "text/plain": [
       "<Figure size 800x800 with 1 Axes>"
      ]
     },
     "metadata": {},
     "output_type": "display_data"
    }
   ],
   "source": [
    "pd.crosstab(df.thalach, df.target).plot(kind='bar', figsize=(8,8));"
   ]
  },
  {
   "cell_type": "code",
   "execution_count": null,
   "metadata": {},
   "outputs": [],
   "source": []
  },
  {
   "cell_type": "code",
   "execution_count": null,
   "metadata": {},
   "outputs": [],
   "source": []
  },
  {
   "cell_type": "code",
   "execution_count": null,
   "metadata": {},
   "outputs": [],
   "source": []
  },
  {
   "cell_type": "code",
   "execution_count": null,
   "metadata": {},
   "outputs": [],
   "source": []
  },
  {
   "cell_type": "code",
   "execution_count": null,
   "metadata": {},
   "outputs": [],
   "source": []
  },
  {
   "cell_type": "code",
   "execution_count": 20,
   "metadata": {},
   "outputs": [
    {
     "data": {
      "text/html": [
       "<div>\n",
       "<style scoped>\n",
       "    .dataframe tbody tr th:only-of-type {\n",
       "        vertical-align: middle;\n",
       "    }\n",
       "\n",
       "    .dataframe tbody tr th {\n",
       "        vertical-align: top;\n",
       "    }\n",
       "\n",
       "    .dataframe thead th {\n",
       "        text-align: right;\n",
       "    }\n",
       "</style>\n",
       "<table border=\"1\" class=\"dataframe\">\n",
       "  <thead>\n",
       "    <tr style=\"text-align: right;\">\n",
       "      <th>target</th>\n",
       "      <th>no</th>\n",
       "      <th>yes</th>\n",
       "    </tr>\n",
       "    <tr>\n",
       "      <th>cp</th>\n",
       "      <th></th>\n",
       "      <th></th>\n",
       "    </tr>\n",
       "  </thead>\n",
       "  <tbody>\n",
       "    <tr>\n",
       "      <th>asymptomatic</th>\n",
       "      <td>26</td>\n",
       "      <td>51</td>\n",
       "    </tr>\n",
       "    <tr>\n",
       "      <th>atypical angina</th>\n",
       "      <td>33</td>\n",
       "      <td>134</td>\n",
       "    </tr>\n",
       "    <tr>\n",
       "      <th>non-anginal pain</th>\n",
       "      <td>374</td>\n",
       "      <td>122</td>\n",
       "    </tr>\n",
       "    <tr>\n",
       "      <th>typical angina</th>\n",
       "      <td>65</td>\n",
       "      <td>219</td>\n",
       "    </tr>\n",
       "  </tbody>\n",
       "</table>\n",
       "</div>"
      ],
      "text/plain": [
       "target             no  yes\n",
       "cp                        \n",
       "asymptomatic       26   51\n",
       "atypical angina    33  134\n",
       "non-anginal pain  374  122\n",
       "typical angina     65  219"
      ]
     },
     "execution_count": 20,
     "metadata": {},
     "output_type": "execute_result"
    }
   ],
   "source": [
    "pd.crosstab(df.cp, df.target)"
   ]
  },
  {
   "cell_type": "code",
   "execution_count": 21,
   "metadata": {},
   "outputs": [
    {
     "data": {
      "image/png": "[encoded data removed]",
      "text/plain": [
       "<Figure size 800x800 with 1 Axes>"
      ]
     },
     "metadata": {},
     "output_type": "display_data"
    }
   ],
   "source": [
    "pd.crosstab(df.cp, df.target).plot(kind='bar', figsize=(8,8));"
   ]
  },
  {
   "cell_type": "code",
   "execution_count": null,
   "metadata": {},
   "outputs": [],
   "source": []
  },
  {
   "cell_type": "code",
   "execution_count": 22,
   "metadata": {},
   "outputs": [
    {
     "data": {
      "image/png": "[encoded data removed]",
      "text/plain": [
       "<Figure size 800x800 with 1 Axes>"
      ]
     },
     "metadata": {},
     "output_type": "display_data"
    }
   ],
   "source": [
    "pd.crosstab(df.fbs, df.target).plot(kind='bar', figsize=(8,8));"
   ]
  },
  {
   "cell_type": "code",
   "execution_count": null,
   "metadata": {},
   "outputs": [],
   "source": []
  },
  {
   "cell_type": "code",
   "execution_count": null,
   "metadata": {},
   "outputs": [],
   "source": []
  },
  {
   "cell_type": "code",
   "execution_count": 23,
   "metadata": {},
   "outputs": [
    {
     "data": {
      "image/png": "[encoded data removed]",
      "text/plain": [
       "<Figure size 600x600 with 1 Axes>"
      ]
     },
     "metadata": {},
     "output_type": "display_data"
    }
   ],
   "source": [
    "#exang\n",
    "pd.crosstab(df.exang, df.target).plot(kind='bar', figsize=(6,6));"
   ]
  },
  {
   "cell_type": "code",
   "execution_count": null,
   "metadata": {},
   "outputs": [],
   "source": []
  },
  {
   "cell_type": "code",
   "execution_count": null,
   "metadata": {},
   "outputs": [],
   "source": []
  },
  {
   "cell_type": "code",
   "execution_count": null,
   "metadata": {},
   "outputs": [],
   "source": []
  },
  {
   "cell_type": "markdown",
   "metadata": {},
   "source": [
    "### Data Trasformation"
   ]
  },
  {
   "cell_type": "code",
   "execution_count": 24,
   "metadata": {},
   "outputs": [
    {
     "name": "stdout",
     "output_type": "stream",
     "text": [
      "<class 'pandas.core.frame.DataFrame'>\n",
      "RangeIndex: 1025 entries, 0 to 1024\n",
      "Data columns (total 14 columns):\n",
      " #   Column    Non-Null Count  Dtype  \n",
      "---  ------    --------------  -----  \n",
      " 0   age       1023 non-null   float64\n",
      " 1   sex       1022 non-null   object \n",
      " 2   cp        1024 non-null   object \n",
      " 3   trestbps  1025 non-null   int64  \n",
      " 4   chol      1023 non-null   object \n",
      " 5   fbs       1022 non-null   object \n",
      " 6   restecg   1023 non-null   object \n",
      " 7   thalach   1024 non-null   float64\n",
      " 8   exang     1025 non-null   object \n",
      " 9   oldpeak   1024 non-null   float64\n",
      " 10  slope     1025 non-null   object \n",
      " 11  ca        1007 non-null   object \n",
      " 12  thal      1016 non-null   object \n",
      " 13  target    1025 non-null   object \n",
      "dtypes: float64(3), int64(1), object(10)\n",
      "memory usage: 112.2+ KB\n"
     ]
    }
   ],
   "source": [
    "#### handle data-types\n",
    "df.info()"
   ]
  },
  {
   "cell_type": "code",
   "execution_count": 25,
   "metadata": {},
   "outputs": [
    {
     "data": {
      "text/html": [
       "<div>\n",
       "<style scoped>\n",
       "    .dataframe tbody tr th:only-of-type {\n",
       "        vertical-align: middle;\n",
       "    }\n",
       "\n",
       "    .dataframe tbody tr th {\n",
       "        vertical-align: top;\n",
       "    }\n",
       "\n",
       "    .dataframe thead th {\n",
       "        text-align: right;\n",
       "    }\n",
       "</style>\n",
       "<table border=\"1\" class=\"dataframe\">\n",
       "  <thead>\n",
       "    <tr style=\"text-align: right;\">\n",
       "      <th></th>\n",
       "      <th>age</th>\n",
       "      <th>sex</th>\n",
       "      <th>cp</th>\n",
       "      <th>trestbps</th>\n",
       "      <th>chol</th>\n",
       "      <th>fbs</th>\n",
       "      <th>restecg</th>\n",
       "      <th>thalach</th>\n",
       "      <th>exang</th>\n",
       "      <th>oldpeak</th>\n",
       "      <th>slope</th>\n",
       "      <th>ca</th>\n",
       "      <th>thal</th>\n",
       "      <th>target</th>\n",
       "    </tr>\n",
       "  </thead>\n",
       "  <tbody>\n",
       "    <tr>\n",
       "      <th>0</th>\n",
       "      <td>52.0</td>\n",
       "      <td>Male</td>\n",
       "      <td>non-anginal pain</td>\n",
       "      <td>125</td>\n",
       "      <td>212</td>\n",
       "      <td>absence</td>\n",
       "      <td>abnormal</td>\n",
       "      <td>168.0</td>\n",
       "      <td>absence</td>\n",
       "      <td>1.0</td>\n",
       "      <td>downsloping</td>\n",
       "      <td>2 major vessels</td>\n",
       "      <td>reversable defect</td>\n",
       "      <td>no</td>\n",
       "    </tr>\n",
       "    <tr>\n",
       "      <th>1</th>\n",
       "      <td>53.0</td>\n",
       "      <td>Male</td>\n",
       "      <td>non-anginal pain</td>\n",
       "      <td>140</td>\n",
       "      <td>203</td>\n",
       "      <td>presence</td>\n",
       "      <td>normal</td>\n",
       "      <td>155.0</td>\n",
       "      <td>presence</td>\n",
       "      <td>3.1</td>\n",
       "      <td>upsloping</td>\n",
       "      <td>no major vessel</td>\n",
       "      <td>reversable defect</td>\n",
       "      <td>no</td>\n",
       "    </tr>\n",
       "    <tr>\n",
       "      <th>2</th>\n",
       "      <td>70.0</td>\n",
       "      <td>Male</td>\n",
       "      <td>non-anginal pain</td>\n",
       "      <td>145</td>\n",
       "      <td>174</td>\n",
       "      <td>absence</td>\n",
       "      <td>abnormal</td>\n",
       "      <td>125.0</td>\n",
       "      <td>presence</td>\n",
       "      <td>2.6</td>\n",
       "      <td>upsloping</td>\n",
       "      <td>no major vessel</td>\n",
       "      <td>reversable defect</td>\n",
       "      <td>no</td>\n",
       "    </tr>\n",
       "  </tbody>\n",
       "</table>\n",
       "</div>"
      ],
      "text/plain": [
       "    age   sex                cp  trestbps chol       fbs   restecg  thalach  \\\n",
       "0  52.0  Male  non-anginal pain       125  212   absence  abnormal    168.0   \n",
       "1  53.0  Male  non-anginal pain       140  203  presence    normal    155.0   \n",
       "2  70.0  Male  non-anginal pain       145  174   absence  abnormal    125.0   \n",
       "\n",
       "      exang  oldpeak        slope               ca               thal target  \n",
       "0   absence      1.0  downsloping  2 major vessels  reversable defect     no  \n",
       "1  presence      3.1    upsloping  no major vessel  reversable defect     no  \n",
       "2  presence      2.6    upsloping  no major vessel  reversable defect     no  "
      ]
     },
     "execution_count": 25,
     "metadata": {},
     "output_type": "execute_result"
    }
   ],
   "source": [
    "df.head(3)"
   ]
  },
  {
   "cell_type": "code",
   "execution_count": 26,
   "metadata": {},
   "outputs": [],
   "source": [
    "#df.cp.value_counts()"
   ]
  },
  {
   "cell_type": "code",
   "execution_count": 27,
   "metadata": {},
   "outputs": [
    {
     "data": {
      "text/plain": [
       "0           212\n",
       "1           203\n",
       "2           174\n",
       "3           203\n",
       "4           294\n",
       "         ...   \n",
       "1020        NaN\n",
       "1021        258\n",
       "1022        275\n",
       "1023    nothing\n",
       "1024        188\n",
       "Name: chol, Length: 1025, dtype: object"
      ]
     },
     "execution_count": 27,
     "metadata": {},
     "output_type": "execute_result"
    }
   ],
   "source": [
    "df.chol\n"
   ]
  },
  {
   "cell_type": "code",
   "execution_count": 28,
   "metadata": {},
   "outputs": [],
   "source": [
    "#unkown, nothing, everyone\n",
    "\n",
    "string1=\"212\""
   ]
  },
  {
   "cell_type": "code",
   "execution_count": 31,
   "metadata": {},
   "outputs": [
    {
     "data": {
      "text/plain": [
       "True"
      ]
     },
     "execution_count": 31,
     "metadata": {},
     "output_type": "execute_result"
    }
   ],
   "source": [
    "string1.isdigit()"
   ]
  },
  {
   "cell_type": "code",
   "execution_count": 32,
   "metadata": {},
   "outputs": [
    {
     "data": {
      "text/plain": [
       "False"
      ]
     },
     "execution_count": 32,
     "metadata": {},
     "output_type": "execute_result"
    }
   ],
   "source": [
    "string2=\"nothing\"\n",
    "string2.isdigit()"
   ]
  },
  {
   "cell_type": "code",
   "execution_count": null,
   "metadata": {},
   "outputs": [],
   "source": []
  },
  {
   "cell_type": "code",
   "execution_count": null,
   "metadata": {},
   "outputs": [],
   "source": []
  },
  {
   "cell_type": "code",
   "execution_count": 210,
   "metadata": {},
   "outputs": [
    {
     "data": {
      "text/plain": [
       "'chol'"
      ]
     },
     "execution_count": 210,
     "metadata": {},
     "output_type": "execute_result"
    }
   ],
   "source": [
    "column_name = 'chol'\n",
    "column_name"
   ]
  },
  {
   "cell_type": "code",
   "execution_count": 211,
   "metadata": {},
   "outputs": [
    {
     "data": {
      "text/plain": [
       "0       False\n",
       "1       False\n",
       "2       False\n",
       "3       False\n",
       "4       False\n",
       "        ...  \n",
       "1020     True\n",
       "1021    False\n",
       "1022    False\n",
       "1023     True\n",
       "1024    False\n",
       "Name: chol, Length: 1025, dtype: bool"
      ]
     },
     "execution_count": 211,
     "metadata": {},
     "output_type": "execute_result"
    }
   ],
   "source": [
    "~df[column_name].astype(str).str.isdigit() | df[column_name].isnull()"
   ]
  },
  {
   "cell_type": "code",
   "execution_count": 212,
   "metadata": {},
   "outputs": [
    {
     "data": {
      "text/html": [
       "<div>\n",
       "<style scoped>\n",
       "    .dataframe tbody tr th:only-of-type {\n",
       "        vertical-align: middle;\n",
       "    }\n",
       "\n",
       "    .dataframe tbody tr th {\n",
       "        vertical-align: top;\n",
       "    }\n",
       "\n",
       "    .dataframe thead th {\n",
       "        text-align: right;\n",
       "    }\n",
       "</style>\n",
       "<table border=\"1\" class=\"dataframe\">\n",
       "  <thead>\n",
       "    <tr style=\"text-align: right;\">\n",
       "      <th></th>\n",
       "      <th>age</th>\n",
       "      <th>sex</th>\n",
       "      <th>cp</th>\n",
       "      <th>trestbps</th>\n",
       "      <th>chol</th>\n",
       "      <th>fbs</th>\n",
       "      <th>restecg</th>\n",
       "      <th>thalach</th>\n",
       "      <th>exang</th>\n",
       "      <th>oldpeak</th>\n",
       "      <th>slope</th>\n",
       "      <th>ca</th>\n",
       "      <th>thal</th>\n",
       "      <th>target</th>\n",
       "    </tr>\n",
       "  </thead>\n",
       "  <tbody>\n",
       "    <tr>\n",
       "      <th>121</th>\n",
       "      <td>44.0</td>\n",
       "      <td>Male</td>\n",
       "      <td>non-anginal pain</td>\n",
       "      <td>120</td>\n",
       "      <td>NaN</td>\n",
       "      <td>absence</td>\n",
       "      <td>abnormal</td>\n",
       "      <td>144.0</td>\n",
       "      <td>presence</td>\n",
       "      <td>2.8</td>\n",
       "      <td>upsloping</td>\n",
       "      <td>no major vessel</td>\n",
       "      <td>normal</td>\n",
       "      <td>no</td>\n",
       "    </tr>\n",
       "    <tr>\n",
       "      <th>1020</th>\n",
       "      <td>59.0</td>\n",
       "      <td>Male</td>\n",
       "      <td>atypical angina</td>\n",
       "      <td>140</td>\n",
       "      <td>NaN</td>\n",
       "      <td>absence</td>\n",
       "      <td>abnormal</td>\n",
       "      <td>164.0</td>\n",
       "      <td>presence</td>\n",
       "      <td>0.0</td>\n",
       "      <td>downsloping</td>\n",
       "      <td>no major vessel</td>\n",
       "      <td>fixed defect</td>\n",
       "      <td>yes</td>\n",
       "    </tr>\n",
       "    <tr>\n",
       "      <th>1023</th>\n",
       "      <td>50.0</td>\n",
       "      <td>Female</td>\n",
       "      <td>non-anginal pain</td>\n",
       "      <td>110</td>\n",
       "      <td>nothing</td>\n",
       "      <td>absence</td>\n",
       "      <td>normal</td>\n",
       "      <td>159.0</td>\n",
       "      <td>absence</td>\n",
       "      <td>0.0</td>\n",
       "      <td>downsloping</td>\n",
       "      <td>no major vessel</td>\n",
       "      <td>fixed defect</td>\n",
       "      <td>yes</td>\n",
       "    </tr>\n",
       "  </tbody>\n",
       "</table>\n",
       "</div>"
      ],
      "text/plain": [
       "       age     sex                cp  trestbps     chol      fbs   restecg  \\\n",
       "121   44.0    Male  non-anginal pain       120      NaN  absence  abnormal   \n",
       "1020  59.0    Male   atypical angina       140      NaN  absence  abnormal   \n",
       "1023  50.0  Female  non-anginal pain       110  nothing  absence    normal   \n",
       "\n",
       "      thalach     exang  oldpeak        slope               ca          thal  \\\n",
       "121     144.0  presence      2.8    upsloping  no major vessel        normal   \n",
       "1020    164.0  presence      0.0  downsloping  no major vessel  fixed defect   \n",
       "1023    159.0   absence      0.0  downsloping  no major vessel  fixed defect   \n",
       "\n",
       "     target  \n",
       "121      no  \n",
       "1020    yes  \n",
       "1023    yes  "
      ]
     },
     "execution_count": 212,
     "metadata": {},
     "output_type": "execute_result"
    }
   ],
   "source": [
    "df.loc[~df[column_name].astype(str).str.isdigit() | df[column_name].isnull()]"
   ]
  },
  {
   "cell_type": "code",
   "execution_count": null,
   "metadata": {},
   "outputs": [],
   "source": []
  },
  {
   "cell_type": "code",
   "execution_count": null,
   "metadata": {},
   "outputs": [],
   "source": []
  },
  {
   "cell_type": "code",
   "execution_count": 213,
   "metadata": {},
   "outputs": [],
   "source": [
    "#mood of the column\n",
    "value = df.chol.mode()[0]\n",
    "\n",
    "df.chol.replace({'nothing':value}, inplace=True)"
   ]
  },
  {
   "cell_type": "code",
   "execution_count": 214,
   "metadata": {},
   "outputs": [
    {
     "data": {
      "text/html": [
       "<div>\n",
       "<style scoped>\n",
       "    .dataframe tbody tr th:only-of-type {\n",
       "        vertical-align: middle;\n",
       "    }\n",
       "\n",
       "    .dataframe tbody tr th {\n",
       "        vertical-align: top;\n",
       "    }\n",
       "\n",
       "    .dataframe thead th {\n",
       "        text-align: right;\n",
       "    }\n",
       "</style>\n",
       "<table border=\"1\" class=\"dataframe\">\n",
       "  <thead>\n",
       "    <tr style=\"text-align: right;\">\n",
       "      <th></th>\n",
       "      <th>age</th>\n",
       "      <th>sex</th>\n",
       "      <th>cp</th>\n",
       "      <th>trestbps</th>\n",
       "      <th>chol</th>\n",
       "      <th>fbs</th>\n",
       "      <th>restecg</th>\n",
       "      <th>thalach</th>\n",
       "      <th>exang</th>\n",
       "      <th>oldpeak</th>\n",
       "      <th>slope</th>\n",
       "      <th>ca</th>\n",
       "      <th>thal</th>\n",
       "      <th>target</th>\n",
       "    </tr>\n",
       "  </thead>\n",
       "  <tbody>\n",
       "    <tr>\n",
       "      <th>1020</th>\n",
       "      <td>59.0</td>\n",
       "      <td>Male</td>\n",
       "      <td>atypical angina</td>\n",
       "      <td>140</td>\n",
       "      <td>NaN</td>\n",
       "      <td>absence</td>\n",
       "      <td>abnormal</td>\n",
       "      <td>164.0</td>\n",
       "      <td>presence</td>\n",
       "      <td>0.0</td>\n",
       "      <td>downsloping</td>\n",
       "      <td>no major vessel</td>\n",
       "      <td>fixed defect</td>\n",
       "      <td>yes</td>\n",
       "    </tr>\n",
       "    <tr>\n",
       "      <th>1021</th>\n",
       "      <td>60.0</td>\n",
       "      <td>Male</td>\n",
       "      <td>non-anginal pain</td>\n",
       "      <td>125</td>\n",
       "      <td>258</td>\n",
       "      <td>absence</td>\n",
       "      <td>normal</td>\n",
       "      <td>141.0</td>\n",
       "      <td>presence</td>\n",
       "      <td>2.8</td>\n",
       "      <td>flat</td>\n",
       "      <td>1 major vessel</td>\n",
       "      <td>reversable defect</td>\n",
       "      <td>no</td>\n",
       "    </tr>\n",
       "    <tr>\n",
       "      <th>1022</th>\n",
       "      <td>47.0</td>\n",
       "      <td>Male</td>\n",
       "      <td>non-anginal pain</td>\n",
       "      <td>110</td>\n",
       "      <td>275</td>\n",
       "      <td>absence</td>\n",
       "      <td>normal</td>\n",
       "      <td>118.0</td>\n",
       "      <td>presence</td>\n",
       "      <td>1.0</td>\n",
       "      <td>flat</td>\n",
       "      <td>1 major vessel</td>\n",
       "      <td>fixed defect</td>\n",
       "      <td>no</td>\n",
       "    </tr>\n",
       "    <tr>\n",
       "      <th>1023</th>\n",
       "      <td>50.0</td>\n",
       "      <td>Female</td>\n",
       "      <td>non-anginal pain</td>\n",
       "      <td>110</td>\n",
       "      <td>204</td>\n",
       "      <td>absence</td>\n",
       "      <td>normal</td>\n",
       "      <td>159.0</td>\n",
       "      <td>absence</td>\n",
       "      <td>0.0</td>\n",
       "      <td>downsloping</td>\n",
       "      <td>no major vessel</td>\n",
       "      <td>fixed defect</td>\n",
       "      <td>yes</td>\n",
       "    </tr>\n",
       "    <tr>\n",
       "      <th>1024</th>\n",
       "      <td>54.0</td>\n",
       "      <td>Male</td>\n",
       "      <td>non-anginal pain</td>\n",
       "      <td>120</td>\n",
       "      <td>188</td>\n",
       "      <td>absence</td>\n",
       "      <td>abnormal</td>\n",
       "      <td>113.0</td>\n",
       "      <td>absence</td>\n",
       "      <td>1.4</td>\n",
       "      <td>flat</td>\n",
       "      <td>1 major vessel</td>\n",
       "      <td>reversable defect</td>\n",
       "      <td>no</td>\n",
       "    </tr>\n",
       "  </tbody>\n",
       "</table>\n",
       "</div>"
      ],
      "text/plain": [
       "       age     sex                cp  trestbps chol      fbs   restecg  \\\n",
       "1020  59.0    Male   atypical angina       140  NaN  absence  abnormal   \n",
       "1021  60.0    Male  non-anginal pain       125  258  absence    normal   \n",
       "1022  47.0    Male  non-anginal pain       110  275  absence    normal   \n",
       "1023  50.0  Female  non-anginal pain       110  204  absence    normal   \n",
       "1024  54.0    Male  non-anginal pain       120  188  absence  abnormal   \n",
       "\n",
       "      thalach     exang  oldpeak        slope               ca  \\\n",
       "1020    164.0  presence      0.0  downsloping  no major vessel   \n",
       "1021    141.0  presence      2.8         flat   1 major vessel   \n",
       "1022    118.0  presence      1.0         flat   1 major vessel   \n",
       "1023    159.0   absence      0.0  downsloping  no major vessel   \n",
       "1024    113.0   absence      1.4         flat   1 major vessel   \n",
       "\n",
       "                   thal target  \n",
       "1020       fixed defect    yes  \n",
       "1021  reversable defect     no  \n",
       "1022       fixed defect     no  \n",
       "1023       fixed defect    yes  \n",
       "1024  reversable defect     no  "
      ]
     },
     "execution_count": 214,
     "metadata": {},
     "output_type": "execute_result"
    }
   ],
   "source": [
    "df.tail()"
   ]
  },
  {
   "cell_type": "code",
   "execution_count": null,
   "metadata": {},
   "outputs": [],
   "source": []
  },
  {
   "cell_type": "code",
   "execution_count": null,
   "metadata": {},
   "outputs": [],
   "source": []
  },
  {
   "cell_type": "code",
   "execution_count": 215,
   "metadata": {},
   "outputs": [
    {
     "name": "stdout",
     "output_type": "stream",
     "text": [
      "<class 'pandas.core.frame.DataFrame'>\n",
      "RangeIndex: 1025 entries, 0 to 1024\n",
      "Data columns (total 14 columns):\n",
      " #   Column    Non-Null Count  Dtype  \n",
      "---  ------    --------------  -----  \n",
      " 0   age       1023 non-null   float64\n",
      " 1   sex       1022 non-null   object \n",
      " 2   cp        1024 non-null   object \n",
      " 3   trestbps  1025 non-null   int64  \n",
      " 4   chol      1023 non-null   object \n",
      " 5   fbs       1022 non-null   object \n",
      " 6   restecg   1023 non-null   object \n",
      " 7   thalach   1024 non-null   float64\n",
      " 8   exang     1025 non-null   object \n",
      " 9   oldpeak   1024 non-null   float64\n",
      " 10  slope     1025 non-null   object \n",
      " 11  ca        1007 non-null   object \n",
      " 12  thal      1016 non-null   object \n",
      " 13  target    1025 non-null   object \n",
      "dtypes: float64(3), int64(1), object(10)\n",
      "memory usage: 112.2+ KB\n"
     ]
    }
   ],
   "source": [
    "df.info()"
   ]
  },
  {
   "cell_type": "code",
   "execution_count": null,
   "metadata": {},
   "outputs": [],
   "source": []
  },
  {
   "cell_type": "code",
   "execution_count": null,
   "metadata": {},
   "outputs": [],
   "source": []
  },
  {
   "cell_type": "code",
   "execution_count": 216,
   "metadata": {},
   "outputs": [],
   "source": [
    "# convert data-type from object to float\n",
    "df.chol = df.chol.astype('float')"
   ]
  },
  {
   "cell_type": "code",
   "execution_count": 217,
   "metadata": {},
   "outputs": [
    {
     "name": "stdout",
     "output_type": "stream",
     "text": [
      "<class 'pandas.core.frame.DataFrame'>\n",
      "RangeIndex: 1025 entries, 0 to 1024\n",
      "Data columns (total 14 columns):\n",
      " #   Column    Non-Null Count  Dtype  \n",
      "---  ------    --------------  -----  \n",
      " 0   age       1023 non-null   float64\n",
      " 1   sex       1022 non-null   object \n",
      " 2   cp        1024 non-null   object \n",
      " 3   trestbps  1025 non-null   int64  \n",
      " 4   chol      1023 non-null   float64\n",
      " 5   fbs       1022 non-null   object \n",
      " 6   restecg   1023 non-null   object \n",
      " 7   thalach   1024 non-null   float64\n",
      " 8   exang     1025 non-null   object \n",
      " 9   oldpeak   1024 non-null   float64\n",
      " 10  slope     1025 non-null   object \n",
      " 11  ca        1007 non-null   object \n",
      " 12  thal      1016 non-null   object \n",
      " 13  target    1025 non-null   object \n",
      "dtypes: float64(4), int64(1), object(9)\n",
      "memory usage: 112.2+ KB\n"
     ]
    }
   ],
   "source": [
    "df.info()"
   ]
  },
  {
   "cell_type": "code",
   "execution_count": null,
   "metadata": {},
   "outputs": [],
   "source": []
  },
  {
   "cell_type": "code",
   "execution_count": null,
   "metadata": {},
   "outputs": [],
   "source": []
  },
  {
   "cell_type": "code",
   "execution_count": null,
   "metadata": {},
   "outputs": [],
   "source": []
  },
  {
   "cell_type": "code",
   "execution_count": null,
   "metadata": {},
   "outputs": [],
   "source": []
  },
  {
   "cell_type": "code",
   "execution_count": null,
   "metadata": {},
   "outputs": [],
   "source": []
  },
  {
   "cell_type": "code",
   "execution_count": null,
   "metadata": {},
   "outputs": [],
   "source": []
  },
  {
   "cell_type": "code",
   "execution_count": null,
   "metadata": {},
   "outputs": [],
   "source": []
  },
  {
   "cell_type": "markdown",
   "metadata": {},
   "source": [
    "## Handling Outliers"
   ]
  },
  {
   "cell_type": "code",
   "execution_count": 42,
   "metadata": {},
   "outputs": [
    {
     "data": {
      "text/html": [
       "<div>\n",
       "<style scoped>\n",
       "    .dataframe tbody tr th:only-of-type {\n",
       "        vertical-align: middle;\n",
       "    }\n",
       "\n",
       "    .dataframe tbody tr th {\n",
       "        vertical-align: top;\n",
       "    }\n",
       "\n",
       "    .dataframe thead th {\n",
       "        text-align: right;\n",
       "    }\n",
       "</style>\n",
       "<table border=\"1\" class=\"dataframe\">\n",
       "  <thead>\n",
       "    <tr style=\"text-align: right;\">\n",
       "      <th></th>\n",
       "      <th>age</th>\n",
       "      <th>sex</th>\n",
       "      <th>cp</th>\n",
       "      <th>trestbps</th>\n",
       "      <th>chol</th>\n",
       "      <th>fbs</th>\n",
       "      <th>restecg</th>\n",
       "      <th>thalach</th>\n",
       "      <th>exang</th>\n",
       "      <th>oldpeak</th>\n",
       "      <th>slope</th>\n",
       "      <th>ca</th>\n",
       "      <th>thal</th>\n",
       "      <th>target</th>\n",
       "    </tr>\n",
       "  </thead>\n",
       "  <tbody>\n",
       "    <tr>\n",
       "      <th>0</th>\n",
       "      <td>52.0</td>\n",
       "      <td>Male</td>\n",
       "      <td>non-anginal pain</td>\n",
       "      <td>125</td>\n",
       "      <td>212.0</td>\n",
       "      <td>absence</td>\n",
       "      <td>abnormal</td>\n",
       "      <td>168.0</td>\n",
       "      <td>absence</td>\n",
       "      <td>1.0</td>\n",
       "      <td>downsloping</td>\n",
       "      <td>2 major vessels</td>\n",
       "      <td>reversable defect</td>\n",
       "      <td>no</td>\n",
       "    </tr>\n",
       "    <tr>\n",
       "      <th>1</th>\n",
       "      <td>53.0</td>\n",
       "      <td>Male</td>\n",
       "      <td>non-anginal pain</td>\n",
       "      <td>140</td>\n",
       "      <td>203.0</td>\n",
       "      <td>presence</td>\n",
       "      <td>normal</td>\n",
       "      <td>155.0</td>\n",
       "      <td>presence</td>\n",
       "      <td>3.1</td>\n",
       "      <td>upsloping</td>\n",
       "      <td>no major vessel</td>\n",
       "      <td>reversable defect</td>\n",
       "      <td>no</td>\n",
       "    </tr>\n",
       "  </tbody>\n",
       "</table>\n",
       "</div>"
      ],
      "text/plain": [
       "    age   sex                cp  trestbps   chol       fbs   restecg  thalach  \\\n",
       "0  52.0  Male  non-anginal pain       125  212.0   absence  abnormal    168.0   \n",
       "1  53.0  Male  non-anginal pain       140  203.0  presence    normal    155.0   \n",
       "\n",
       "      exang  oldpeak        slope               ca               thal target  \n",
       "0   absence      1.0  downsloping  2 major vessels  reversable defect     no  \n",
       "1  presence      3.1    upsloping  no major vessel  reversable defect     no  "
      ]
     },
     "execution_count": 42,
     "metadata": {},
     "output_type": "execute_result"
    }
   ],
   "source": [
    "df.head(2)"
   ]
  },
  {
   "cell_type": "code",
   "execution_count": 43,
   "metadata": {},
   "outputs": [
    {
     "data": {
      "text/html": [
       "<div>\n",
       "<style scoped>\n",
       "    .dataframe tbody tr th:only-of-type {\n",
       "        vertical-align: middle;\n",
       "    }\n",
       "\n",
       "    .dataframe tbody tr th {\n",
       "        vertical-align: top;\n",
       "    }\n",
       "\n",
       "    .dataframe thead th {\n",
       "        text-align: right;\n",
       "    }\n",
       "</style>\n",
       "<table border=\"1\" class=\"dataframe\">\n",
       "  <thead>\n",
       "    <tr style=\"text-align: right;\">\n",
       "      <th></th>\n",
       "      <th>age</th>\n",
       "      <th>trestbps</th>\n",
       "      <th>chol</th>\n",
       "      <th>thalach</th>\n",
       "      <th>oldpeak</th>\n",
       "    </tr>\n",
       "  </thead>\n",
       "  <tbody>\n",
       "    <tr>\n",
       "      <th>0</th>\n",
       "      <td>52.0</td>\n",
       "      <td>125</td>\n",
       "      <td>212.0</td>\n",
       "      <td>168.0</td>\n",
       "      <td>1.0</td>\n",
       "    </tr>\n",
       "    <tr>\n",
       "      <th>1</th>\n",
       "      <td>53.0</td>\n",
       "      <td>140</td>\n",
       "      <td>203.0</td>\n",
       "      <td>155.0</td>\n",
       "      <td>3.1</td>\n",
       "    </tr>\n",
       "    <tr>\n",
       "      <th>2</th>\n",
       "      <td>70.0</td>\n",
       "      <td>145</td>\n",
       "      <td>174.0</td>\n",
       "      <td>125.0</td>\n",
       "      <td>2.6</td>\n",
       "    </tr>\n",
       "    <tr>\n",
       "      <th>3</th>\n",
       "      <td>61.0</td>\n",
       "      <td>148</td>\n",
       "      <td>203.0</td>\n",
       "      <td>161.0</td>\n",
       "      <td>0.0</td>\n",
       "    </tr>\n",
       "    <tr>\n",
       "      <th>4</th>\n",
       "      <td>62.0</td>\n",
       "      <td>138</td>\n",
       "      <td>294.0</td>\n",
       "      <td>106.0</td>\n",
       "      <td>1.9</td>\n",
       "    </tr>\n",
       "    <tr>\n",
       "      <th>...</th>\n",
       "      <td>...</td>\n",
       "      <td>...</td>\n",
       "      <td>...</td>\n",
       "      <td>...</td>\n",
       "      <td>...</td>\n",
       "    </tr>\n",
       "    <tr>\n",
       "      <th>1020</th>\n",
       "      <td>59.0</td>\n",
       "      <td>140</td>\n",
       "      <td>NaN</td>\n",
       "      <td>164.0</td>\n",
       "      <td>0.0</td>\n",
       "    </tr>\n",
       "    <tr>\n",
       "      <th>1021</th>\n",
       "      <td>60.0</td>\n",
       "      <td>125</td>\n",
       "      <td>258.0</td>\n",
       "      <td>141.0</td>\n",
       "      <td>2.8</td>\n",
       "    </tr>\n",
       "    <tr>\n",
       "      <th>1022</th>\n",
       "      <td>47.0</td>\n",
       "      <td>110</td>\n",
       "      <td>275.0</td>\n",
       "      <td>118.0</td>\n",
       "      <td>1.0</td>\n",
       "    </tr>\n",
       "    <tr>\n",
       "      <th>1023</th>\n",
       "      <td>50.0</td>\n",
       "      <td>110</td>\n",
       "      <td>204.0</td>\n",
       "      <td>159.0</td>\n",
       "      <td>0.0</td>\n",
       "    </tr>\n",
       "    <tr>\n",
       "      <th>1024</th>\n",
       "      <td>54.0</td>\n",
       "      <td>120</td>\n",
       "      <td>188.0</td>\n",
       "      <td>113.0</td>\n",
       "      <td>1.4</td>\n",
       "    </tr>\n",
       "  </tbody>\n",
       "</table>\n",
       "<p>1025 rows × 5 columns</p>\n",
       "</div>"
      ],
      "text/plain": [
       "       age  trestbps   chol  thalach  oldpeak\n",
       "0     52.0       125  212.0    168.0      1.0\n",
       "1     53.0       140  203.0    155.0      3.1\n",
       "2     70.0       145  174.0    125.0      2.6\n",
       "3     61.0       148  203.0    161.0      0.0\n",
       "4     62.0       138  294.0    106.0      1.9\n",
       "...    ...       ...    ...      ...      ...\n",
       "1020  59.0       140    NaN    164.0      0.0\n",
       "1021  60.0       125  258.0    141.0      2.8\n",
       "1022  47.0       110  275.0    118.0      1.0\n",
       "1023  50.0       110  204.0    159.0      0.0\n",
       "1024  54.0       120  188.0    113.0      1.4\n",
       "\n",
       "[1025 rows x 5 columns]"
      ]
     },
     "execution_count": 43,
     "metadata": {},
     "output_type": "execute_result"
    }
   ],
   "source": [
    "numeric_columns = df.select_dtypes(include=np.number)\n",
    "numeric_columns"
   ]
  },
  {
   "cell_type": "code",
   "execution_count": 44,
   "metadata": {},
   "outputs": [
    {
     "data": {
      "image/png": "[encoded data removed]",
      "text/plain": [
       "<Figure size 640x480 with 1 Axes>"
      ]
     },
     "metadata": {},
     "output_type": "display_data"
    },
    {
     "data": {
      "image/png": "[encoded data removed]",
      "text/plain": [
       "<Figure size 640x480 with 1 Axes>"
      ]
     },
     "metadata": {},
     "output_type": "display_data"
    },
    {
     "data": {
      "image/png": "[encoded data removed]",
      "text/plain": [
       "<Figure size 640x480 with 1 Axes>"
      ]
     },
     "metadata": {},
     "output_type": "display_data"
    },
    {
     "data": {
      "image/png": "[encoded data removed]",
      "text/plain": [
       "<Figure size 640x480 with 1 Axes>"
      ]
     },
     "metadata": {},
     "output_type": "display_data"
    },
    {
     "data": {
      "image/png": "[encoded data removed]",
      "text/plain": [
       "<Figure size 640x480 with 1 Axes>"
      ]
     },
     "metadata": {},
     "output_type": "display_data"
    }
   ],
   "source": [
    "#boxplot to detect outliers\n",
    "\n",
    "for i in numeric_columns.columns:\n",
    "    sns.boxplot(x=i, data=numeric_columns)\n",
    "    plt.title(f\"{i}\")\n",
    "    plt.show()"
   ]
  },
  {
   "cell_type": "code",
   "execution_count": 45,
   "metadata": {},
   "outputs": [
    {
     "data": {
      "text/plain": [
       "age         0.021636\n",
       "trestbps    0.758634\n",
       "chol        1.329177\n",
       "thalach    -0.048132\n",
       "oldpeak     1.258772\n",
       "dtype: float64"
      ]
     },
     "execution_count": 45,
     "metadata": {},
     "output_type": "execute_result"
    }
   ],
   "source": [
    "#skewness to detect outliers\n",
    "\n",
    "numeric_columns.skew()"
   ]
  },
  {
   "cell_type": "code",
   "execution_count": null,
   "metadata": {},
   "outputs": [],
   "source": []
  },
  {
   "cell_type": "code",
   "execution_count": null,
   "metadata": {},
   "outputs": [],
   "source": []
  },
  {
   "cell_type": "code",
   "execution_count": null,
   "metadata": {},
   "outputs": [],
   "source": []
  },
  {
   "cell_type": "code",
   "execution_count": null,
   "metadata": {},
   "outputs": [],
   "source": []
  },
  {
   "cell_type": "code",
   "execution_count": null,
   "metadata": {},
   "outputs": [],
   "source": []
  },
  {
   "cell_type": "markdown",
   "metadata": {},
   "source": [
    "## Feature Engineering\n",
    "- Handling Outliers\n",
    "- Handling Categorical Features\n",
    "- Handling Missing values\n",
    "- Feature scaling\n",
    "- Feature extraction and combining"
   ]
  },
  {
   "cell_type": "code",
   "execution_count": null,
   "metadata": {},
   "outputs": [],
   "source": [
    "#numeric_columns.corr()"
   ]
  },
  {
   "cell_type": "code",
   "execution_count": 218,
   "metadata": {},
   "outputs": [],
   "source": [
    "#encoding of target column\n",
    "def modify_target(x):\n",
    "    if x=='yes':\n",
    "        return 1\n",
    "    else:\n",
    "        return 0\n",
    "\n",
    "df.target = df.target.apply(modify_target)"
   ]
  },
  {
   "cell_type": "code",
   "execution_count": 219,
   "metadata": {},
   "outputs": [
    {
     "data": {
      "text/html": [
       "<div>\n",
       "<style scoped>\n",
       "    .dataframe tbody tr th:only-of-type {\n",
       "        vertical-align: middle;\n",
       "    }\n",
       "\n",
       "    .dataframe tbody tr th {\n",
       "        vertical-align: top;\n",
       "    }\n",
       "\n",
       "    .dataframe thead th {\n",
       "        text-align: right;\n",
       "    }\n",
       "</style>\n",
       "<table border=\"1\" class=\"dataframe\">\n",
       "  <thead>\n",
       "    <tr style=\"text-align: right;\">\n",
       "      <th></th>\n",
       "      <th>age</th>\n",
       "      <th>sex</th>\n",
       "      <th>cp</th>\n",
       "      <th>trestbps</th>\n",
       "      <th>chol</th>\n",
       "      <th>fbs</th>\n",
       "      <th>restecg</th>\n",
       "      <th>thalach</th>\n",
       "      <th>exang</th>\n",
       "      <th>oldpeak</th>\n",
       "      <th>slope</th>\n",
       "      <th>ca</th>\n",
       "      <th>thal</th>\n",
       "      <th>target</th>\n",
       "    </tr>\n",
       "  </thead>\n",
       "  <tbody>\n",
       "    <tr>\n",
       "      <th>0</th>\n",
       "      <td>52.0</td>\n",
       "      <td>Male</td>\n",
       "      <td>non-anginal pain</td>\n",
       "      <td>125</td>\n",
       "      <td>212.0</td>\n",
       "      <td>absence</td>\n",
       "      <td>abnormal</td>\n",
       "      <td>168.0</td>\n",
       "      <td>absence</td>\n",
       "      <td>1.0</td>\n",
       "      <td>downsloping</td>\n",
       "      <td>2 major vessels</td>\n",
       "      <td>reversable defect</td>\n",
       "      <td>0</td>\n",
       "    </tr>\n",
       "    <tr>\n",
       "      <th>1</th>\n",
       "      <td>53.0</td>\n",
       "      <td>Male</td>\n",
       "      <td>non-anginal pain</td>\n",
       "      <td>140</td>\n",
       "      <td>203.0</td>\n",
       "      <td>presence</td>\n",
       "      <td>normal</td>\n",
       "      <td>155.0</td>\n",
       "      <td>presence</td>\n",
       "      <td>3.1</td>\n",
       "      <td>upsloping</td>\n",
       "      <td>no major vessel</td>\n",
       "      <td>reversable defect</td>\n",
       "      <td>0</td>\n",
       "    </tr>\n",
       "    <tr>\n",
       "      <th>2</th>\n",
       "      <td>70.0</td>\n",
       "      <td>Male</td>\n",
       "      <td>non-anginal pain</td>\n",
       "      <td>145</td>\n",
       "      <td>174.0</td>\n",
       "      <td>absence</td>\n",
       "      <td>abnormal</td>\n",
       "      <td>125.0</td>\n",
       "      <td>presence</td>\n",
       "      <td>2.6</td>\n",
       "      <td>upsloping</td>\n",
       "      <td>no major vessel</td>\n",
       "      <td>reversable defect</td>\n",
       "      <td>0</td>\n",
       "    </tr>\n",
       "    <tr>\n",
       "      <th>3</th>\n",
       "      <td>61.0</td>\n",
       "      <td>Male</td>\n",
       "      <td>non-anginal pain</td>\n",
       "      <td>148</td>\n",
       "      <td>203.0</td>\n",
       "      <td>absence</td>\n",
       "      <td>abnormal</td>\n",
       "      <td>161.0</td>\n",
       "      <td>absence</td>\n",
       "      <td>0.0</td>\n",
       "      <td>downsloping</td>\n",
       "      <td>1 major vessel</td>\n",
       "      <td>reversable defect</td>\n",
       "      <td>0</td>\n",
       "    </tr>\n",
       "    <tr>\n",
       "      <th>4</th>\n",
       "      <td>62.0</td>\n",
       "      <td>Female</td>\n",
       "      <td>non-anginal pain</td>\n",
       "      <td>138</td>\n",
       "      <td>294.0</td>\n",
       "      <td>presence</td>\n",
       "      <td>abnormal</td>\n",
       "      <td>106.0</td>\n",
       "      <td>absence</td>\n",
       "      <td>1.9</td>\n",
       "      <td>flat</td>\n",
       "      <td>3 major vessels</td>\n",
       "      <td>fixed defect</td>\n",
       "      <td>0</td>\n",
       "    </tr>\n",
       "  </tbody>\n",
       "</table>\n",
       "</div>"
      ],
      "text/plain": [
       "    age     sex                cp  trestbps   chol       fbs   restecg  \\\n",
       "0  52.0    Male  non-anginal pain       125  212.0   absence  abnormal   \n",
       "1  53.0    Male  non-anginal pain       140  203.0  presence    normal   \n",
       "2  70.0    Male  non-anginal pain       145  174.0   absence  abnormal   \n",
       "3  61.0    Male  non-anginal pain       148  203.0   absence  abnormal   \n",
       "4  62.0  Female  non-anginal pain       138  294.0  presence  abnormal   \n",
       "\n",
       "   thalach     exang  oldpeak        slope               ca  \\\n",
       "0    168.0   absence      1.0  downsloping  2 major vessels   \n",
       "1    155.0  presence      3.1    upsloping  no major vessel   \n",
       "2    125.0  presence      2.6    upsloping  no major vessel   \n",
       "3    161.0   absence      0.0  downsloping   1 major vessel   \n",
       "4    106.0   absence      1.9         flat  3 major vessels   \n",
       "\n",
       "                thal  target  \n",
       "0  reversable defect       0  \n",
       "1  reversable defect       0  \n",
       "2  reversable defect       0  \n",
       "3  reversable defect       0  \n",
       "4       fixed defect       0  "
      ]
     },
     "execution_count": 219,
     "metadata": {},
     "output_type": "execute_result"
    }
   ],
   "source": [
    "df.head()"
   ]
  },
  {
   "cell_type": "code",
   "execution_count": null,
   "metadata": {},
   "outputs": [],
   "source": []
  },
  {
   "cell_type": "code",
   "execution_count": null,
   "metadata": {},
   "outputs": [],
   "source": []
  },
  {
   "cell_type": "code",
   "execution_count": 220,
   "metadata": {},
   "outputs": [],
   "source": [
    "#features and target\n",
    "\n",
    "\n",
    "features = df.drop(columns='target')\n",
    "target = df['target']"
   ]
  },
  {
   "cell_type": "code",
   "execution_count": null,
   "metadata": {},
   "outputs": [],
   "source": []
  },
  {
   "cell_type": "code",
   "execution_count": null,
   "metadata": {},
   "outputs": [],
   "source": []
  },
  {
   "cell_type": "code",
   "execution_count": 221,
   "metadata": {},
   "outputs": [],
   "source": [
    "\n",
    "from sklearn.model_selection import train_test_split\n",
    "\n",
    "# Pipeline to create a pipeline\n",
    "from sklearn.pipeline import Pipeline\n",
    "\n",
    "# SimpleImputer to handle missing values\n",
    "from sklearn.impute import SimpleImputer\n",
    "\n",
    "# StandardScalr for scaling of numerical columns\n",
    "# OneHotEncoder for encding of categorical columns\n",
    "from sklearn.preprocessing import StandardScaler, OneHotEncoder, RobustScaler, OrdinalEncoder, LabelEncoder\n",
    "\n",
    "#columnTransformer to bind all the transformers in a single pipeline\n",
    "from sklearn.compose import ColumnTransformer\n",
    "\n"
   ]
  },
  {
   "cell_type": "code",
   "execution_count": 222,
   "metadata": {},
   "outputs": [],
   "source": [
    "\n",
    "\n",
    "\n",
    "# train test split\n",
    "\n",
    "X_train, X_test, y_train, y_test = train_test_split(features, target, test_size=.2,random_state= 42 )"
   ]
  },
  {
   "cell_type": "code",
   "execution_count": 223,
   "metadata": {},
   "outputs": [
    {
     "data": {
      "text/plain": [
       "((820, 13), (205, 13), (820,), (205,))"
      ]
     },
     "execution_count": 223,
     "metadata": {},
     "output_type": "execute_result"
    }
   ],
   "source": [
    "X_train.shape, X_test.shape, y_train.shape, y_test.shape"
   ]
  },
  {
   "cell_type": "code",
   "execution_count": null,
   "metadata": {},
   "outputs": [],
   "source": []
  },
  {
   "cell_type": "code",
   "execution_count": null,
   "metadata": {},
   "outputs": [],
   "source": []
  },
  {
   "cell_type": "code",
   "execution_count": null,
   "metadata": {},
   "outputs": [],
   "source": []
  },
  {
   "cell_type": "code",
   "execution_count": null,
   "metadata": {},
   "outputs": [],
   "source": []
  },
  {
   "cell_type": "code",
   "execution_count": null,
   "metadata": {},
   "outputs": [],
   "source": []
  },
  {
   "cell_type": "code",
   "execution_count": null,
   "metadata": {},
   "outputs": [],
   "source": []
  },
  {
   "cell_type": "code",
   "execution_count": null,
   "metadata": {},
   "outputs": [],
   "source": []
  },
  {
   "cell_type": "code",
   "execution_count": 224,
   "metadata": {},
   "outputs": [
    {
     "data": {
      "text/plain": [
       "(['sex', 'cp', 'fbs', 'restecg', 'exang', 'slope', 'ca', 'thal'],\n",
       " ['age', 'trestbps', 'chol', 'thalach', 'oldpeak'])"
      ]
     },
     "execution_count": 224,
     "metadata": {},
     "output_type": "execute_result"
    }
   ],
   "source": [
    "# separate numerical columns and categorical columns\n",
    "\n",
    "num_columns = numeric_columns.columns.to_list() \n",
    "cat_columns = df.select_dtypes(exclude=np.number).columns.to_list()\n",
    "cat_columns,num_columns"
   ]
  },
  {
   "cell_type": "code",
   "execution_count": null,
   "metadata": {},
   "outputs": [],
   "source": []
  },
  {
   "cell_type": "code",
   "execution_count": 233,
   "metadata": {},
   "outputs": [],
   "source": [
    "#for numeric columns\n",
    "\n",
    "numeric_transformer = Pipeline(steps=[\n",
    "    ('numeric_imputer', SimpleImputer(strategy='median')),\n",
    "    ('scaling', RobustScaler())\n",
    "])\n",
    "\n",
    "\n",
    "\n",
    "\n",
    "#for categorical columns \n",
    "categorical_transformer = Pipeline(steps=[\n",
    "    ('cat_imputer', SimpleImputer(strategy='most_frequent')),\n",
    "    ('encoder', OneHotEncoder(handle_unknown='ignore'))\n",
    "])"
   ]
  },
  {
   "cell_type": "code",
   "execution_count": 234,
   "metadata": {},
   "outputs": [],
   "source": [
    "preprocessor = ColumnTransformer(\n",
    "    transformers=[\n",
    "        ('num', numeric_transformer, num_columns),\n",
    "        ('cat', categorical_transformer, cat_columns),\n",
    "    ])\n"
   ]
  },
  {
   "cell_type": "code",
   "execution_count": 235,
   "metadata": {},
   "outputs": [],
   "source": [
    "# feature engineering pipeline \n",
    "pipeline = Pipeline(steps=[\n",
    "    ('preprocessor', preprocessor),\n",
    "])\n"
   ]
  },
  {
   "cell_type": "code",
   "execution_count": null,
   "metadata": {},
   "outputs": [],
   "source": []
  },
  {
   "cell_type": "code",
   "execution_count": null,
   "metadata": {},
   "outputs": [],
   "source": []
  },
  {
   "cell_type": "markdown",
   "metadata": {},
   "source": [
    "### Save Model Pipeline"
   ]
  },
  {
   "cell_type": "code",
   "execution_count": 247,
   "metadata": {},
   "outputs": [
    {
     "data": {
      "text/plain": [
       "['pipeline/preprocessor.pkl']"
      ]
     },
     "execution_count": 247,
     "metadata": {},
     "output_type": "execute_result"
    }
   ],
   "source": [
    "import joblib\n",
    "joblib.dump(pipeline, \"pipeline/preprocessor.pkl\")"
   ]
  },
  {
   "cell_type": "code",
   "execution_count": null,
   "metadata": {},
   "outputs": [],
   "source": []
  },
  {
   "cell_type": "code",
   "execution_count": null,
   "metadata": {},
   "outputs": [],
   "source": []
  },
  {
   "cell_type": "code",
   "execution_count": null,
   "metadata": {},
   "outputs": [],
   "source": []
  },
  {
   "cell_type": "code",
   "execution_count": null,
   "metadata": {},
   "outputs": [],
   "source": []
  },
  {
   "cell_type": "markdown",
   "metadata": {},
   "source": [
    "### fit_transform vs transform ?"
   ]
  },
  {
   "cell_type": "code",
   "execution_count": null,
   "metadata": {},
   "outputs": [],
   "source": []
  },
  {
   "cell_type": "code",
   "execution_count": null,
   "metadata": {},
   "outputs": [],
   "source": []
  },
  {
   "cell_type": "code",
   "execution_count": null,
   "metadata": {},
   "outputs": [],
   "source": []
  },
  {
   "cell_type": "code",
   "execution_count": null,
   "metadata": {},
   "outputs": [],
   "source": []
  },
  {
   "cell_type": "code",
   "execution_count": 240,
   "metadata": {},
   "outputs": [],
   "source": [
    "X_train_transformed = pipeline.fit_transform(X_train)\n",
    "X_test_transformed = pipeline.transform(X_test)"
   ]
  },
  {
   "cell_type": "code",
   "execution_count": null,
   "metadata": {},
   "outputs": [],
   "source": []
  },
  {
   "cell_type": "code",
   "execution_count": 241,
   "metadata": {},
   "outputs": [
    {
     "data": {
      "text/plain": [
       "(205, 29)"
      ]
     },
     "execution_count": 241,
     "metadata": {},
     "output_type": "execute_result"
    }
   ],
   "source": [
    "X_test_transformed.shape"
   ]
  },
  {
   "cell_type": "code",
   "execution_count": 242,
   "metadata": {},
   "outputs": [
    {
     "data": {
      "text/plain": [
       "(820, 29)"
      ]
     },
     "execution_count": 242,
     "metadata": {},
     "output_type": "execute_result"
    }
   ],
   "source": [
    "X_train_transformed.shape"
   ]
  },
  {
   "cell_type": "code",
   "execution_count": null,
   "metadata": {},
   "outputs": [],
   "source": []
  },
  {
   "cell_type": "code",
   "execution_count": null,
   "metadata": {},
   "outputs": [],
   "source": []
  },
  {
   "cell_type": "code",
   "execution_count": null,
   "metadata": {},
   "outputs": [],
   "source": []
  },
  {
   "cell_type": "code",
   "execution_count": null,
   "metadata": {},
   "outputs": [],
   "source": []
  },
  {
   "cell_type": "code",
   "execution_count": null,
   "metadata": {},
   "outputs": [],
   "source": []
  },
  {
   "cell_type": "code",
   "execution_count": null,
   "metadata": {},
   "outputs": [],
   "source": []
  },
  {
   "cell_type": "code",
   "execution_count": null,
   "metadata": {},
   "outputs": [],
   "source": []
  },
  {
   "cell_type": "markdown",
   "metadata": {},
   "source": [
    "### Model Building"
   ]
  },
  {
   "cell_type": "code",
   "execution_count": 189,
   "metadata": {},
   "outputs": [],
   "source": [
    "from sklearn.linear_model import LogisticRegression\n",
    "from sklearn.neighbors import KNeighborsClassifier\n",
    "from sklearn.tree import DecisionTreeClassifier\n",
    "from sklearn.naive_bayes import GaussianNB\n",
    "from sklearn.svm import SVC\n",
    "from sklearn.ensemble import RandomForestClassifier, AdaBoostClassifier, BaggingClassifier\n",
    "from sklearn.metrics import accuracy_score, precision_score, recall_score, f1_score\n"
   ]
  },
  {
   "cell_type": "code",
   "execution_count": null,
   "metadata": {},
   "outputs": [],
   "source": []
  },
  {
   "cell_type": "code",
   "execution_count": 249,
   "metadata": {},
   "outputs": [],
   "source": [
    "# Initialize the classifiers\n",
    "classifiers = [\n",
    "    LogisticRegression(),\n",
    "    KNeighborsClassifier(),\n",
    "    DecisionTreeClassifier(),\n",
    "    GaussianNB(),\n",
    "    SVC(),\n",
    "    RandomForestClassifier(),\n",
    "    AdaBoostClassifier(),\n",
    "    BaggingClassifier()\n",
    "]\n",
    "\n"
   ]
  },
  {
   "cell_type": "code",
   "execution_count": null,
   "metadata": {},
   "outputs": [],
   "source": []
  },
  {
   "cell_type": "code",
   "execution_count": null,
   "metadata": {},
   "outputs": [],
   "source": []
  },
  {
   "cell_type": "code",
   "execution_count": 251,
   "metadata": {},
   "outputs": [
    {
     "name": "stdout",
     "output_type": "stream",
     "text": [
      "Classifier :  LogisticRegression\n",
      "Train Accuracy :  0.8841463414634146\n",
      "Test Accuracy :  0.8195121951219512\n",
      "Precision :  0.7796610169491526\n",
      "Recall :  0.8932038834951457\n",
      "F1 Score :  0.8325791855203619\n",
      "---------------------------------\n",
      "===================================\n",
      "Classifier :  KNeighborsClassifier\n",
      "Train Accuracy :  0.9439024390243902\n",
      "Test Accuracy :  0.8341463414634146\n",
      "Precision :  0.8108108108108109\n",
      "Recall :  0.8737864077669902\n",
      "F1 Score :  0.8411214953271028\n",
      "---------------------------------\n",
      "===================================\n",
      "Classifier :  DecisionTreeClassifier\n",
      "Train Accuracy :  1.0\n",
      "Test Accuracy :  0.975609756097561\n",
      "Precision :  0.99\n",
      "Recall :  0.9611650485436893\n",
      "F1 Score :  0.9753694581280788\n",
      "---------------------------------\n",
      "===================================\n",
      "Classifier :  GaussianNB\n",
      "Train Accuracy :  0.7207317073170731\n",
      "Test Accuracy :  0.6829268292682927\n",
      "Precision :  0.61875\n",
      "Recall :  0.9611650485436893\n",
      "F1 Score :  0.7528517110266161\n",
      "---------------------------------\n",
      "===================================\n",
      "Classifier :  SVC\n",
      "Train Accuracy :  0.9536585365853658\n",
      "Test Accuracy :  0.8731707317073171\n",
      "Precision :  0.8290598290598291\n",
      "Recall :  0.941747572815534\n",
      "F1 Score :  0.8818181818181818\n",
      "---------------------------------\n",
      "===================================\n",
      "Classifier :  RandomForestClassifier\n",
      "Train Accuracy :  1.0\n",
      "Test Accuracy :  0.9853658536585366\n",
      "Precision :  1.0\n",
      "Recall :  0.970873786407767\n",
      "F1 Score :  0.9852216748768473\n",
      "---------------------------------\n",
      "===================================\n",
      "Classifier :  AdaBoostClassifier\n",
      "Train Accuracy :  0.9341463414634147\n",
      "Test Accuracy :  0.8390243902439024\n",
      "Precision :  0.8125\n",
      "Recall :  0.883495145631068\n",
      "F1 Score :  0.8465116279069768\n",
      "---------------------------------\n",
      "===================================\n",
      "Classifier :  BaggingClassifier\n",
      "Train Accuracy :  1.0\n",
      "Test Accuracy :  0.9804878048780488\n",
      "Precision :  0.9900990099009901\n",
      "Recall :  0.970873786407767\n",
      "F1 Score :  0.9803921568627452\n",
      "---------------------------------\n",
      "===================================\n"
     ]
    }
   ],
   "source": [
    "for classifier in classifiers:\n",
    "    classifier.fit(X_train_transformed,y_train)\n",
    "    \n",
    "    #predict the target variable for both training and testing\n",
    "    train_predictions = classifier.predict(X_train_transformed) # to check overfitting\n",
    "    test_predictions = classifier.predict(X_test_transformed) # to check underfitting\n",
    "    \n",
    "    \n",
    "    # evaluate performance of the model using all classification metrics\n",
    "    train_accuracy = accuracy_score(y_train,train_predictions)\n",
    "    test_accuracy = accuracy_score(y_test,test_predictions)\n",
    "    precision = precision_score(y_test, test_predictions)\n",
    "    recall = recall_score(y_test,test_predictions)\n",
    "    f1 = f1_score(y_test, test_predictions)\n",
    "    \n",
    "    print(\"Classifier : \", classifier.__class__.__name__)\n",
    "    print(\"Train Accuracy : \", train_accuracy)\n",
    "    print(\"Test Accuracy : \", test_accuracy)\n",
    "    print(\"Precision : \", precision)\n",
    "    print(\"Recall : \", recall)\n",
    "    print(\"F1 Score : \", f1)\n",
    "    \n",
    "    print(\"---------------------------------\")\n",
    "    print(\"=\"*35)\n",
    "    \n",
    "    "
   ]
  },
  {
   "cell_type": "code",
   "execution_count": null,
   "metadata": {},
   "outputs": [],
   "source": []
  },
  {
   "cell_type": "code",
   "execution_count": null,
   "metadata": {},
   "outputs": [],
   "source": []
  },
  {
   "cell_type": "code",
   "execution_count": null,
   "metadata": {},
   "outputs": [],
   "source": []
  },
  {
   "cell_type": "code",
   "execution_count": null,
   "metadata": {},
   "outputs": [],
   "source": []
  },
  {
   "cell_type": "code",
   "execution_count": null,
   "metadata": {},
   "outputs": [],
   "source": []
  },
  {
   "cell_type": "markdown",
   "metadata": {},
   "source": [
    "### Model Interpretation "
   ]
  },
  {
   "cell_type": "code",
   "execution_count": 253,
   "metadata": {},
   "outputs": [],
   "source": [
    "classifiers = [\n",
    "    \"LogisticRegression\",\n",
    "    \"KNeighborsClassifier\",\n",
    "    \"DecisionTreeClassifier\",\n",
    "    \"GaussianNB\",\n",
    "    \"SVC\",\n",
    "    \"RandomForestClassifier\",\n",
    "    \"AdaBoostClassifier\",\n",
    "    \"BaggingClassifier\"\n",
    "]\n",
    "\n",
    "train_accuracy = [ 0.884, 0.944, 1.0, 0.721, 0.954, 1.0, 0.934, 1.0]\n",
    "test_accuracy = [ 0.81, 0.834,  0.976, 0.683, 0.873, 0.985, 0.839, 0.98]"
   ]
  },
  {
   "cell_type": "code",
   "execution_count": 254,
   "metadata": {},
   "outputs": [],
   "source": [
    "data = {\n",
    "    'classifier': classifiers,\n",
    "    'Train Accuracy':train_accuracy,\n",
    "    'Test Accuracy':test_accuracy\n",
    "}"
   ]
  },
  {
   "cell_type": "code",
   "execution_count": 257,
   "metadata": {},
   "outputs": [
    {
     "data": {
      "text/html": [
       "<div>\n",
       "<style scoped>\n",
       "    .dataframe tbody tr th:only-of-type {\n",
       "        vertical-align: middle;\n",
       "    }\n",
       "\n",
       "    .dataframe tbody tr th {\n",
       "        vertical-align: top;\n",
       "    }\n",
       "\n",
       "    .dataframe thead th {\n",
       "        text-align: right;\n",
       "    }\n",
       "</style>\n",
       "<table border=\"1\" class=\"dataframe\">\n",
       "  <thead>\n",
       "    <tr style=\"text-align: right;\">\n",
       "      <th></th>\n",
       "      <th>classifier</th>\n",
       "      <th>Train Accuracy</th>\n",
       "      <th>Test Accuracy</th>\n",
       "    </tr>\n",
       "  </thead>\n",
       "  <tbody>\n",
       "    <tr>\n",
       "      <th>0</th>\n",
       "      <td>LogisticRegression</td>\n",
       "      <td>0.884</td>\n",
       "      <td>0.810</td>\n",
       "    </tr>\n",
       "    <tr>\n",
       "      <th>1</th>\n",
       "      <td>KNeighborsClassifier</td>\n",
       "      <td>0.944</td>\n",
       "      <td>0.834</td>\n",
       "    </tr>\n",
       "    <tr>\n",
       "      <th>2</th>\n",
       "      <td>DecisionTreeClassifier</td>\n",
       "      <td>1.000</td>\n",
       "      <td>0.976</td>\n",
       "    </tr>\n",
       "    <tr>\n",
       "      <th>3</th>\n",
       "      <td>GaussianNB</td>\n",
       "      <td>0.721</td>\n",
       "      <td>0.683</td>\n",
       "    </tr>\n",
       "    <tr>\n",
       "      <th>4</th>\n",
       "      <td>SVC</td>\n",
       "      <td>0.954</td>\n",
       "      <td>0.873</td>\n",
       "    </tr>\n",
       "    <tr>\n",
       "      <th>5</th>\n",
       "      <td>RandomForestClassifier</td>\n",
       "      <td>1.000</td>\n",
       "      <td>0.985</td>\n",
       "    </tr>\n",
       "    <tr>\n",
       "      <th>6</th>\n",
       "      <td>AdaBoostClassifier</td>\n",
       "      <td>0.934</td>\n",
       "      <td>0.839</td>\n",
       "    </tr>\n",
       "    <tr>\n",
       "      <th>7</th>\n",
       "      <td>BaggingClassifier</td>\n",
       "      <td>1.000</td>\n",
       "      <td>0.980</td>\n",
       "    </tr>\n",
       "  </tbody>\n",
       "</table>\n",
       "</div>"
      ],
      "text/plain": [
       "               classifier  Train Accuracy  Test Accuracy\n",
       "0      LogisticRegression           0.884          0.810\n",
       "1    KNeighborsClassifier           0.944          0.834\n",
       "2  DecisionTreeClassifier           1.000          0.976\n",
       "3              GaussianNB           0.721          0.683\n",
       "4                     SVC           0.954          0.873\n",
       "5  RandomForestClassifier           1.000          0.985\n",
       "6      AdaBoostClassifier           0.934          0.839\n",
       "7       BaggingClassifier           1.000          0.980"
      ]
     },
     "execution_count": 257,
     "metadata": {},
     "output_type": "execute_result"
    }
   ],
   "source": [
    "new_df = pd.DataFrame(data)\n",
    "new_df"
   ]
  },
  {
   "cell_type": "code",
   "execution_count": 260,
   "metadata": {},
   "outputs": [],
   "source": [
    "new_df.set_index(\"classifier\", inplace=True)"
   ]
  },
  {
   "cell_type": "code",
   "execution_count": 261,
   "metadata": {},
   "outputs": [
    {
     "data": {
      "text/html": [
       "<div>\n",
       "<style scoped>\n",
       "    .dataframe tbody tr th:only-of-type {\n",
       "        vertical-align: middle;\n",
       "    }\n",
       "\n",
       "    .dataframe tbody tr th {\n",
       "        vertical-align: top;\n",
       "    }\n",
       "\n",
       "    .dataframe thead th {\n",
       "        text-align: right;\n",
       "    }\n",
       "</style>\n",
       "<table border=\"1\" class=\"dataframe\">\n",
       "  <thead>\n",
       "    <tr style=\"text-align: right;\">\n",
       "      <th></th>\n",
       "      <th>Train Accuracy</th>\n",
       "      <th>Test Accuracy</th>\n",
       "    </tr>\n",
       "    <tr>\n",
       "      <th>classifier</th>\n",
       "      <th></th>\n",
       "      <th></th>\n",
       "    </tr>\n",
       "  </thead>\n",
       "  <tbody>\n",
       "    <tr>\n",
       "      <th>LogisticRegression</th>\n",
       "      <td>0.884</td>\n",
       "      <td>0.810</td>\n",
       "    </tr>\n",
       "    <tr>\n",
       "      <th>KNeighborsClassifier</th>\n",
       "      <td>0.944</td>\n",
       "      <td>0.834</td>\n",
       "    </tr>\n",
       "    <tr>\n",
       "      <th>DecisionTreeClassifier</th>\n",
       "      <td>1.000</td>\n",
       "      <td>0.976</td>\n",
       "    </tr>\n",
       "    <tr>\n",
       "      <th>GaussianNB</th>\n",
       "      <td>0.721</td>\n",
       "      <td>0.683</td>\n",
       "    </tr>\n",
       "    <tr>\n",
       "      <th>SVC</th>\n",
       "      <td>0.954</td>\n",
       "      <td>0.873</td>\n",
       "    </tr>\n",
       "    <tr>\n",
       "      <th>RandomForestClassifier</th>\n",
       "      <td>1.000</td>\n",
       "      <td>0.985</td>\n",
       "    </tr>\n",
       "    <tr>\n",
       "      <th>AdaBoostClassifier</th>\n",
       "      <td>0.934</td>\n",
       "      <td>0.839</td>\n",
       "    </tr>\n",
       "    <tr>\n",
       "      <th>BaggingClassifier</th>\n",
       "      <td>1.000</td>\n",
       "      <td>0.980</td>\n",
       "    </tr>\n",
       "  </tbody>\n",
       "</table>\n",
       "</div>"
      ],
      "text/plain": [
       "                        Train Accuracy  Test Accuracy\n",
       "classifier                                           \n",
       "LogisticRegression               0.884          0.810\n",
       "KNeighborsClassifier             0.944          0.834\n",
       "DecisionTreeClassifier           1.000          0.976\n",
       "GaussianNB                       0.721          0.683\n",
       "SVC                              0.954          0.873\n",
       "RandomForestClassifier           1.000          0.985\n",
       "AdaBoostClassifier               0.934          0.839\n",
       "BaggingClassifier                1.000          0.980"
      ]
     },
     "execution_count": 261,
     "metadata": {},
     "output_type": "execute_result"
    }
   ],
   "source": [
    "new_df"
   ]
  },
  {
   "cell_type": "code",
   "execution_count": null,
   "metadata": {},
   "outputs": [],
   "source": []
  },
  {
   "cell_type": "code",
   "execution_count": null,
   "metadata": {},
   "outputs": [],
   "source": []
  },
  {
   "cell_type": "code",
   "execution_count": 262,
   "metadata": {},
   "outputs": [
    {
     "data": {
      "text/plain": [
       "'RandomForestClassifier'"
      ]
     },
     "execution_count": 262,
     "metadata": {},
     "output_type": "execute_result"
    }
   ],
   "source": [
    "best_model = new_df['Test Accuracy'].idxmax()\n",
    "best_model"
   ]
  },
  {
   "cell_type": "code",
   "execution_count": null,
   "metadata": {},
   "outputs": [],
   "source": []
  },
  {
   "cell_type": "code",
   "execution_count": null,
   "metadata": {},
   "outputs": [],
   "source": []
  },
  {
   "cell_type": "code",
   "execution_count": 266,
   "metadata": {},
   "outputs": [
    {
     "data": {
      "image/png": "[encoded data removed]",
      "text/plain": [
       "<Figure size 800x600 with 1 Axes>"
      ]
     },
     "metadata": {},
     "output_type": "display_data"
    }
   ],
   "source": [
    "sns.set(style=\"darkgrid\")\n",
    "ax = new_df.plot(kind='bar', figsize=(8,6))\n",
    "ax.set_ylabel(\"Accuracy\")\n",
    "ax.set_title(\"Training and Testing Accuracy of Classifiers\")\n",
    "plt.xticks(rotation=45)\n",
    "ax.patches[new_df.index.get_loc(best_model)].set_facecolor('red')\n",
    "plt.show()"
   ]
  },
  {
   "cell_type": "code",
   "execution_count": null,
   "metadata": {},
   "outputs": [],
   "source": []
  },
  {
   "cell_type": "code",
   "execution_count": null,
   "metadata": {},
   "outputs": [],
   "source": []
  },
  {
   "cell_type": "code",
   "execution_count": null,
   "metadata": {},
   "outputs": [],
   "source": []
  },
  {
   "cell_type": "code",
   "execution_count": null,
   "metadata": {},
   "outputs": [],
   "source": []
  },
  {
   "cell_type": "code",
   "execution_count": null,
   "metadata": {},
   "outputs": [],
   "source": []
  },
  {
   "cell_type": "code",
   "execution_count": null,
   "metadata": {},
   "outputs": [],
   "source": []
  },
  {
   "cell_type": "markdown",
   "metadata": {},
   "source": [
    "### Getting Prediction on new data"
   ]
  },
  {
   "cell_type": "code",
   "execution_count": 268,
   "metadata": {},
   "outputs": [
    {
     "data": {
      "text/plain": [
       "RandomForestClassifier()"
      ]
     },
     "execution_count": 268,
     "metadata": {},
     "output_type": "execute_result"
    }
   ],
   "source": [
    "best_Model = RandomForestClassifier()\n",
    "best_Model.fit(X_train_transformed,y_train)"
   ]
  },
  {
   "cell_type": "markdown",
   "metadata": {},
   "source": [
    "### Save model "
   ]
  },
  {
   "cell_type": "code",
   "execution_count": 271,
   "metadata": {},
   "outputs": [
    {
     "data": {
      "text/plain": [
       "['pipeline/Our_Final_Model.pkl']"
      ]
     },
     "execution_count": 271,
     "metadata": {},
     "output_type": "execute_result"
    }
   ],
   "source": [
    "joblib.dump(best_Model, \"pipeline/Our_Final_Model.pkl\")"
   ]
  },
  {
   "cell_type": "code",
   "execution_count": null,
   "metadata": {},
   "outputs": [],
   "source": []
  },
  {
   "cell_type": "code",
   "execution_count": null,
   "metadata": {},
   "outputs": [],
   "source": []
  },
  {
   "cell_type": "code",
   "execution_count": null,
   "metadata": {},
   "outputs": [],
   "source": []
  },
  {
   "cell_type": "code",
   "execution_count": 283,
   "metadata": {},
   "outputs": [
    {
     "data": {
      "text/html": [
       "<div>\n",
       "<style scoped>\n",
       "    .dataframe tbody tr th:only-of-type {\n",
       "        vertical-align: middle;\n",
       "    }\n",
       "\n",
       "    .dataframe tbody tr th {\n",
       "        vertical-align: top;\n",
       "    }\n",
       "\n",
       "    .dataframe thead th {\n",
       "        text-align: right;\n",
       "    }\n",
       "</style>\n",
       "<table border=\"1\" class=\"dataframe\">\n",
       "  <thead>\n",
       "    <tr style=\"text-align: right;\">\n",
       "      <th></th>\n",
       "      <th>age</th>\n",
       "      <th>sex</th>\n",
       "      <th>cp</th>\n",
       "      <th>trestbps</th>\n",
       "      <th>chol</th>\n",
       "      <th>fbs</th>\n",
       "      <th>restecg</th>\n",
       "      <th>thalach</th>\n",
       "      <th>exang</th>\n",
       "      <th>oldpeak</th>\n",
       "      <th>slope</th>\n",
       "      <th>ca</th>\n",
       "      <th>thal</th>\n",
       "      <th>target</th>\n",
       "    </tr>\n",
       "  </thead>\n",
       "  <tbody>\n",
       "    <tr>\n",
       "      <th>0</th>\n",
       "      <td>52.0</td>\n",
       "      <td>Male</td>\n",
       "      <td>non-anginal pain</td>\n",
       "      <td>125</td>\n",
       "      <td>212.0</td>\n",
       "      <td>absence</td>\n",
       "      <td>abnormal</td>\n",
       "      <td>168.0</td>\n",
       "      <td>absence</td>\n",
       "      <td>1.0</td>\n",
       "      <td>downsloping</td>\n",
       "      <td>2 major vessels</td>\n",
       "      <td>reversable defect</td>\n",
       "      <td>0</td>\n",
       "    </tr>\n",
       "    <tr>\n",
       "      <th>1</th>\n",
       "      <td>53.0</td>\n",
       "      <td>Male</td>\n",
       "      <td>non-anginal pain</td>\n",
       "      <td>140</td>\n",
       "      <td>203.0</td>\n",
       "      <td>presence</td>\n",
       "      <td>normal</td>\n",
       "      <td>155.0</td>\n",
       "      <td>presence</td>\n",
       "      <td>3.1</td>\n",
       "      <td>upsloping</td>\n",
       "      <td>no major vessel</td>\n",
       "      <td>reversable defect</td>\n",
       "      <td>0</td>\n",
       "    </tr>\n",
       "    <tr>\n",
       "      <th>2</th>\n",
       "      <td>70.0</td>\n",
       "      <td>Male</td>\n",
       "      <td>non-anginal pain</td>\n",
       "      <td>145</td>\n",
       "      <td>174.0</td>\n",
       "      <td>absence</td>\n",
       "      <td>abnormal</td>\n",
       "      <td>125.0</td>\n",
       "      <td>presence</td>\n",
       "      <td>2.6</td>\n",
       "      <td>upsloping</td>\n",
       "      <td>no major vessel</td>\n",
       "      <td>reversable defect</td>\n",
       "      <td>0</td>\n",
       "    </tr>\n",
       "    <tr>\n",
       "      <th>3</th>\n",
       "      <td>61.0</td>\n",
       "      <td>Male</td>\n",
       "      <td>non-anginal pain</td>\n",
       "      <td>148</td>\n",
       "      <td>203.0</td>\n",
       "      <td>absence</td>\n",
       "      <td>abnormal</td>\n",
       "      <td>161.0</td>\n",
       "      <td>absence</td>\n",
       "      <td>0.0</td>\n",
       "      <td>downsloping</td>\n",
       "      <td>1 major vessel</td>\n",
       "      <td>reversable defect</td>\n",
       "      <td>0</td>\n",
       "    </tr>\n",
       "    <tr>\n",
       "      <th>4</th>\n",
       "      <td>62.0</td>\n",
       "      <td>Female</td>\n",
       "      <td>non-anginal pain</td>\n",
       "      <td>138</td>\n",
       "      <td>294.0</td>\n",
       "      <td>presence</td>\n",
       "      <td>abnormal</td>\n",
       "      <td>106.0</td>\n",
       "      <td>absence</td>\n",
       "      <td>1.9</td>\n",
       "      <td>flat</td>\n",
       "      <td>3 major vessels</td>\n",
       "      <td>fixed defect</td>\n",
       "      <td>0</td>\n",
       "    </tr>\n",
       "    <tr>\n",
       "      <th>...</th>\n",
       "      <td>...</td>\n",
       "      <td>...</td>\n",
       "      <td>...</td>\n",
       "      <td>...</td>\n",
       "      <td>...</td>\n",
       "      <td>...</td>\n",
       "      <td>...</td>\n",
       "      <td>...</td>\n",
       "      <td>...</td>\n",
       "      <td>...</td>\n",
       "      <td>...</td>\n",
       "      <td>...</td>\n",
       "      <td>...</td>\n",
       "      <td>...</td>\n",
       "    </tr>\n",
       "    <tr>\n",
       "      <th>1020</th>\n",
       "      <td>59.0</td>\n",
       "      <td>Male</td>\n",
       "      <td>atypical angina</td>\n",
       "      <td>140</td>\n",
       "      <td>NaN</td>\n",
       "      <td>absence</td>\n",
       "      <td>abnormal</td>\n",
       "      <td>164.0</td>\n",
       "      <td>presence</td>\n",
       "      <td>0.0</td>\n",
       "      <td>downsloping</td>\n",
       "      <td>no major vessel</td>\n",
       "      <td>fixed defect</td>\n",
       "      <td>1</td>\n",
       "    </tr>\n",
       "    <tr>\n",
       "      <th>1021</th>\n",
       "      <td>60.0</td>\n",
       "      <td>Male</td>\n",
       "      <td>non-anginal pain</td>\n",
       "      <td>125</td>\n",
       "      <td>258.0</td>\n",
       "      <td>absence</td>\n",
       "      <td>normal</td>\n",
       "      <td>141.0</td>\n",
       "      <td>presence</td>\n",
       "      <td>2.8</td>\n",
       "      <td>flat</td>\n",
       "      <td>1 major vessel</td>\n",
       "      <td>reversable defect</td>\n",
       "      <td>0</td>\n",
       "    </tr>\n",
       "    <tr>\n",
       "      <th>1022</th>\n",
       "      <td>47.0</td>\n",
       "      <td>Male</td>\n",
       "      <td>non-anginal pain</td>\n",
       "      <td>110</td>\n",
       "      <td>275.0</td>\n",
       "      <td>absence</td>\n",
       "      <td>normal</td>\n",
       "      <td>118.0</td>\n",
       "      <td>presence</td>\n",
       "      <td>1.0</td>\n",
       "      <td>flat</td>\n",
       "      <td>1 major vessel</td>\n",
       "      <td>fixed defect</td>\n",
       "      <td>0</td>\n",
       "    </tr>\n",
       "    <tr>\n",
       "      <th>1023</th>\n",
       "      <td>50.0</td>\n",
       "      <td>Female</td>\n",
       "      <td>non-anginal pain</td>\n",
       "      <td>110</td>\n",
       "      <td>204.0</td>\n",
       "      <td>absence</td>\n",
       "      <td>normal</td>\n",
       "      <td>159.0</td>\n",
       "      <td>absence</td>\n",
       "      <td>0.0</td>\n",
       "      <td>downsloping</td>\n",
       "      <td>no major vessel</td>\n",
       "      <td>fixed defect</td>\n",
       "      <td>1</td>\n",
       "    </tr>\n",
       "    <tr>\n",
       "      <th>1024</th>\n",
       "      <td>54.0</td>\n",
       "      <td>Male</td>\n",
       "      <td>non-anginal pain</td>\n",
       "      <td>120</td>\n",
       "      <td>188.0</td>\n",
       "      <td>absence</td>\n",
       "      <td>abnormal</td>\n",
       "      <td>113.0</td>\n",
       "      <td>absence</td>\n",
       "      <td>1.4</td>\n",
       "      <td>flat</td>\n",
       "      <td>1 major vessel</td>\n",
       "      <td>reversable defect</td>\n",
       "      <td>0</td>\n",
       "    </tr>\n",
       "  </tbody>\n",
       "</table>\n",
       "<p>1025 rows × 14 columns</p>\n",
       "</div>"
      ],
      "text/plain": [
       "       age     sex                cp  trestbps   chol       fbs   restecg  \\\n",
       "0     52.0    Male  non-anginal pain       125  212.0   absence  abnormal   \n",
       "1     53.0    Male  non-anginal pain       140  203.0  presence    normal   \n",
       "2     70.0    Male  non-anginal pain       145  174.0   absence  abnormal   \n",
       "3     61.0    Male  non-anginal pain       148  203.0   absence  abnormal   \n",
       "4     62.0  Female  non-anginal pain       138  294.0  presence  abnormal   \n",
       "...    ...     ...               ...       ...    ...       ...       ...   \n",
       "1020  59.0    Male   atypical angina       140    NaN   absence  abnormal   \n",
       "1021  60.0    Male  non-anginal pain       125  258.0   absence    normal   \n",
       "1022  47.0    Male  non-anginal pain       110  275.0   absence    normal   \n",
       "1023  50.0  Female  non-anginal pain       110  204.0   absence    normal   \n",
       "1024  54.0    Male  non-anginal pain       120  188.0   absence  abnormal   \n",
       "\n",
       "      thalach     exang  oldpeak        slope               ca  \\\n",
       "0       168.0   absence      1.0  downsloping  2 major vessels   \n",
       "1       155.0  presence      3.1    upsloping  no major vessel   \n",
       "2       125.0  presence      2.6    upsloping  no major vessel   \n",
       "3       161.0   absence      0.0  downsloping   1 major vessel   \n",
       "4       106.0   absence      1.9         flat  3 major vessels   \n",
       "...       ...       ...      ...          ...              ...   \n",
       "1020    164.0  presence      0.0  downsloping  no major vessel   \n",
       "1021    141.0  presence      2.8         flat   1 major vessel   \n",
       "1022    118.0  presence      1.0         flat   1 major vessel   \n",
       "1023    159.0   absence      0.0  downsloping  no major vessel   \n",
       "1024    113.0   absence      1.4         flat   1 major vessel   \n",
       "\n",
       "                   thal  target  \n",
       "0     reversable defect       0  \n",
       "1     reversable defect       0  \n",
       "2     reversable defect       0  \n",
       "3     reversable defect       0  \n",
       "4          fixed defect       0  \n",
       "...                 ...     ...  \n",
       "1020       fixed defect       1  \n",
       "1021  reversable defect       0  \n",
       "1022       fixed defect       0  \n",
       "1023       fixed defect       1  \n",
       "1024  reversable defect       0  \n",
       "\n",
       "[1025 rows x 14 columns]"
      ]
     },
     "execution_count": 283,
     "metadata": {},
     "output_type": "execute_result"
    }
   ],
   "source": [
    "df"
   ]
  },
  {
   "cell_type": "code",
   "execution_count": 299,
   "metadata": {},
   "outputs": [
    {
     "data": {
      "text/html": [
       "<div>\n",
       "<style scoped>\n",
       "    .dataframe tbody tr th:only-of-type {\n",
       "        vertical-align: middle;\n",
       "    }\n",
       "\n",
       "    .dataframe tbody tr th {\n",
       "        vertical-align: top;\n",
       "    }\n",
       "\n",
       "    .dataframe thead th {\n",
       "        text-align: right;\n",
       "    }\n",
       "</style>\n",
       "<table border=\"1\" class=\"dataframe\">\n",
       "  <thead>\n",
       "    <tr style=\"text-align: right;\">\n",
       "      <th></th>\n",
       "      <th>age</th>\n",
       "      <th>sex</th>\n",
       "      <th>cp</th>\n",
       "      <th>trestbps</th>\n",
       "      <th>chol</th>\n",
       "      <th>fbs</th>\n",
       "      <th>restecg</th>\n",
       "      <th>thalach</th>\n",
       "      <th>exang</th>\n",
       "      <th>oldpeak</th>\n",
       "      <th>slope</th>\n",
       "      <th>ca</th>\n",
       "      <th>thal</th>\n",
       "    </tr>\n",
       "  </thead>\n",
       "  <tbody>\n",
       "    <tr>\n",
       "      <th>0</th>\n",
       "      <td>23</td>\n",
       "      <td>Female</td>\n",
       "      <td>non-angina pain</td>\n",
       "      <td>100</td>\n",
       "      <td>120</td>\n",
       "      <td>absence</td>\n",
       "      <td>normal</td>\n",
       "      <td>120</td>\n",
       "      <td>absence</td>\n",
       "      <td>1.5</td>\n",
       "      <td>flat</td>\n",
       "      <td>no major vessels</td>\n",
       "      <td>fixed defect</td>\n",
       "    </tr>\n",
       "  </tbody>\n",
       "</table>\n",
       "</div>"
      ],
      "text/plain": [
       "   age     sex               cp  trestbps  chol      fbs restecg  thalach  \\\n",
       "0   23  Female  non-angina pain       100   120  absence  normal      120   \n",
       "\n",
       "     exang  oldpeak slope                ca          thal  \n",
       "0  absence      1.5  flat  no major vessels  fixed defect  "
      ]
     },
     "execution_count": 299,
     "metadata": {},
     "output_type": "execute_result"
    }
   ],
   "source": [
    "#new data\n",
    "new_user_data = pd.DataFrame(data={\n",
    "    'age': 23,\n",
    "    'sex': 'Female',\n",
    "    'cp': 'non-angina pain',\n",
    "    'trestbps': 100,\n",
    "    'chol': 120,\n",
    "    'fbs': 'absence',\n",
    "    'restecg': 'normal',\n",
    "    'thalach': 120,\n",
    "    'exang': 'absence',\n",
    "    'oldpeak': 1.5,\n",
    "    'slope': 'flat',\n",
    "    'ca': 'no major vessels',\n",
    "    'thal': 'fixed defect'\n",
    "}, index=[0])\n",
    "\n",
    "\n",
    "\n",
    "new_user_data"
   ]
  },
  {
   "cell_type": "code",
   "execution_count": null,
   "metadata": {},
   "outputs": [],
   "source": []
  },
  {
   "cell_type": "code",
   "execution_count": 300,
   "metadata": {},
   "outputs": [
    {
     "data": {
      "text/plain": [
       "array([[-2.35714286, -1.5       , -1.875     , -0.93430657,  0.42424242,\n",
       "         1.        ,  0.        ,  0.        ,  0.        ,  0.        ,\n",
       "         0.        ,  1.        ,  0.        ,  0.        ,  1.        ,\n",
       "         1.        ,  0.        ,  0.        ,  1.        ,  0.        ,\n",
       "         0.        ,  0.        ,  0.        ,  0.        ,  0.        ,\n",
       "         0.        ,  1.        ,  0.        ,  0.        ]])"
      ]
     },
     "execution_count": 300,
     "metadata": {},
     "output_type": "execute_result"
    }
   ],
   "source": [
    "new_transformed_data = pipeline.transform(new_user_data)\n",
    "new_transformed_data"
   ]
  },
  {
   "cell_type": "code",
   "execution_count": null,
   "metadata": {},
   "outputs": [],
   "source": []
  },
  {
   "cell_type": "code",
   "execution_count": 303,
   "metadata": {},
   "outputs": [],
   "source": [
    "result = best_Model.predict(new_transformed_data)[0]\n"
   ]
  },
  {
   "cell_type": "code",
   "execution_count": 304,
   "metadata": {},
   "outputs": [
    {
     "name": "stdout",
     "output_type": "stream",
     "text": [
      "Patient is suffering from Heart Disease\n"
     ]
    }
   ],
   "source": [
    "\n",
    "if result==1:\n",
    "    print(\"Patient is suffering from Heart Disease\")\n",
    "else:\n",
    "    print(\"Patient is not suffering from Heart Disease\")"
   ]
  },
  {
   "cell_type": "code",
   "execution_count": null,
   "metadata": {},
   "outputs": [],
   "source": []
  },
  {
   "cell_type": "code",
   "execution_count": null,
   "metadata": {},
   "outputs": [],
   "source": []
  },
  {
   "cell_type": "code",
   "execution_count": null,
   "metadata": {},
   "outputs": [],
   "source": []
  },
  {
   "cell_type": "code",
   "execution_count": null,
   "metadata": {},
   "outputs": [],
   "source": []
  },
  {
   "cell_type": "markdown",
   "metadata": {},
   "source": [
    "### Model Development"
   ]
  },
  {
   "cell_type": "code",
   "execution_count": null,
   "metadata": {},
   "outputs": [],
   "source": []
  },
  {
   "cell_type": "code",
   "execution_count": null,
   "metadata": {},
   "outputs": [],
   "source": []
  },
  {
   "cell_type": "code",
   "execution_count": null,
   "metadata": {},
   "outputs": [],
   "source": []
  },
  {
   "cell_type": "code",
   "execution_count": 305,
   "metadata": {},
   "outputs": [
    {
     "data": {
      "text/html": [
       "<div>\n",
       "<style scoped>\n",
       "    .dataframe tbody tr th:only-of-type {\n",
       "        vertical-align: middle;\n",
       "    }\n",
       "\n",
       "    .dataframe tbody tr th {\n",
       "        vertical-align: top;\n",
       "    }\n",
       "\n",
       "    .dataframe thead th {\n",
       "        text-align: right;\n",
       "    }\n",
       "</style>\n",
       "<table border=\"1\" class=\"dataframe\">\n",
       "  <thead>\n",
       "    <tr style=\"text-align: right;\">\n",
       "      <th></th>\n",
       "      <th>age</th>\n",
       "      <th>sex</th>\n",
       "      <th>cp</th>\n",
       "      <th>trestbps</th>\n",
       "      <th>chol</th>\n",
       "      <th>fbs</th>\n",
       "      <th>restecg</th>\n",
       "      <th>thalach</th>\n",
       "      <th>exang</th>\n",
       "      <th>oldpeak</th>\n",
       "      <th>slope</th>\n",
       "      <th>ca</th>\n",
       "      <th>thal</th>\n",
       "      <th>target</th>\n",
       "    </tr>\n",
       "  </thead>\n",
       "  <tbody>\n",
       "    <tr>\n",
       "      <th>0</th>\n",
       "      <td>52.0</td>\n",
       "      <td>Male</td>\n",
       "      <td>non-anginal pain</td>\n",
       "      <td>125</td>\n",
       "      <td>212.0</td>\n",
       "      <td>absence</td>\n",
       "      <td>abnormal</td>\n",
       "      <td>168.0</td>\n",
       "      <td>absence</td>\n",
       "      <td>1.0</td>\n",
       "      <td>downsloping</td>\n",
       "      <td>2 major vessels</td>\n",
       "      <td>reversable defect</td>\n",
       "      <td>0</td>\n",
       "    </tr>\n",
       "    <tr>\n",
       "      <th>1</th>\n",
       "      <td>53.0</td>\n",
       "      <td>Male</td>\n",
       "      <td>non-anginal pain</td>\n",
       "      <td>140</td>\n",
       "      <td>203.0</td>\n",
       "      <td>presence</td>\n",
       "      <td>normal</td>\n",
       "      <td>155.0</td>\n",
       "      <td>presence</td>\n",
       "      <td>3.1</td>\n",
       "      <td>upsloping</td>\n",
       "      <td>no major vessel</td>\n",
       "      <td>reversable defect</td>\n",
       "      <td>0</td>\n",
       "    </tr>\n",
       "    <tr>\n",
       "      <th>2</th>\n",
       "      <td>70.0</td>\n",
       "      <td>Male</td>\n",
       "      <td>non-anginal pain</td>\n",
       "      <td>145</td>\n",
       "      <td>174.0</td>\n",
       "      <td>absence</td>\n",
       "      <td>abnormal</td>\n",
       "      <td>125.0</td>\n",
       "      <td>presence</td>\n",
       "      <td>2.6</td>\n",
       "      <td>upsloping</td>\n",
       "      <td>no major vessel</td>\n",
       "      <td>reversable defect</td>\n",
       "      <td>0</td>\n",
       "    </tr>\n",
       "    <tr>\n",
       "      <th>3</th>\n",
       "      <td>61.0</td>\n",
       "      <td>Male</td>\n",
       "      <td>non-anginal pain</td>\n",
       "      <td>148</td>\n",
       "      <td>203.0</td>\n",
       "      <td>absence</td>\n",
       "      <td>abnormal</td>\n",
       "      <td>161.0</td>\n",
       "      <td>absence</td>\n",
       "      <td>0.0</td>\n",
       "      <td>downsloping</td>\n",
       "      <td>1 major vessel</td>\n",
       "      <td>reversable defect</td>\n",
       "      <td>0</td>\n",
       "    </tr>\n",
       "    <tr>\n",
       "      <th>4</th>\n",
       "      <td>62.0</td>\n",
       "      <td>Female</td>\n",
       "      <td>non-anginal pain</td>\n",
       "      <td>138</td>\n",
       "      <td>294.0</td>\n",
       "      <td>presence</td>\n",
       "      <td>abnormal</td>\n",
       "      <td>106.0</td>\n",
       "      <td>absence</td>\n",
       "      <td>1.9</td>\n",
       "      <td>flat</td>\n",
       "      <td>3 major vessels</td>\n",
       "      <td>fixed defect</td>\n",
       "      <td>0</td>\n",
       "    </tr>\n",
       "  </tbody>\n",
       "</table>\n",
       "</div>"
      ],
      "text/plain": [
       "    age     sex                cp  trestbps   chol       fbs   restecg  \\\n",
       "0  52.0    Male  non-anginal pain       125  212.0   absence  abnormal   \n",
       "1  53.0    Male  non-anginal pain       140  203.0  presence    normal   \n",
       "2  70.0    Male  non-anginal pain       145  174.0   absence  abnormal   \n",
       "3  61.0    Male  non-anginal pain       148  203.0   absence  abnormal   \n",
       "4  62.0  Female  non-anginal pain       138  294.0  presence  abnormal   \n",
       "\n",
       "   thalach     exang  oldpeak        slope               ca  \\\n",
       "0    168.0   absence      1.0  downsloping  2 major vessels   \n",
       "1    155.0  presence      3.1    upsloping  no major vessel   \n",
       "2    125.0  presence      2.6    upsloping  no major vessel   \n",
       "3    161.0   absence      0.0  downsloping   1 major vessel   \n",
       "4    106.0   absence      1.9         flat  3 major vessels   \n",
       "\n",
       "                thal  target  \n",
       "0  reversable defect       0  \n",
       "1  reversable defect       0  \n",
       "2  reversable defect       0  \n",
       "3  reversable defect       0  \n",
       "4       fixed defect       0  "
      ]
     },
     "execution_count": 305,
     "metadata": {},
     "output_type": "execute_result"
    }
   ],
   "source": [
    "df.head()"
   ]
  },
  {
   "cell_type": "code",
   "execution_count": 308,
   "metadata": {},
   "outputs": [
    {
     "data": {
      "text/plain": [
       "fixed defect         543\n",
       "reversable defect    409\n",
       "normal                64\n",
       "Name: thal, dtype: int64"
      ]
     },
     "execution_count": 308,
     "metadata": {},
     "output_type": "execute_result"
    }
   ],
   "source": [
    "df.thal.value_counts()"
   ]
  },
  {
   "cell_type": "code",
   "execution_count": null,
   "metadata": {},
   "outputs": [],
   "source": []
  }
 ],
 "metadata": {
  "kernelspec": {
   "display_name": "Python 3 (ipykernel)",
   "language": "python",
   "name": "python3"
  },
  "language_info": {
   "codemirror_mode": {
    "name": "ipython",
    "version": 3
   },
   "file_extension": ".py",
   "mimetype": "text/x-python",
   "name": "python",
   "nbconvert_exporter": "python",
   "pygments_lexer": "ipython3",
   "version": "3.8.10"
  }
 },
 "nbformat": 4,
 "nbformat_minor": 2
}
